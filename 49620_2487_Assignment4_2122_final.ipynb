{
  "cells": [
    {
      "cell_type": "markdown",
      "metadata": {
        "id": "mnbbLdjplG3P"
      },
      "source": [
        "# Assignment 4\n",
        "\n",
        "The assignment 4 contains 3 questions and the due date is May 9th (Sunday) 23:59PM."
      ]
    },
    {
      "cell_type": "code",
      "execution_count": 1,
      "metadata": {
        "id": "KR3cpUtvlG3T"
      },
      "outputs": [],
      "source": [
        "import numpy as np\n",
        "import pandas as pd\n",
        "import matplotlib.pyplot as plt\n",
        "\n",
        "%matplotlib inline"
      ]
    },
    {
      "cell_type": "markdown",
      "metadata": {
        "id": "loPj3KzulG3U"
      },
      "source": [
        "## Question 1 Celonis Automation Bootcamp (20 points)\n",
        "\n",
        "In this question, you are simply asked to complete the bootcamp and upload the badge or compleion proof. \n"
      ]
    },
    {
      "cell_type": "code",
      "execution_count": 2,
      "metadata": {
        "id": "w5Q_zlqHlG3U"
      },
      "outputs": [],
      "source": [
        "# Done"
      ]
    },
    {
      "cell_type": "markdown",
      "metadata": {
        "id": "IKz0-NnzlG3U"
      },
      "source": [
        "## Question 2 Training a deep neural network (80 points)\n",
        "\n",
        "Practice training a deep neural network on the CIFAR10 image dataset:\n"
      ]
    },
    {
      "cell_type": "code",
      "execution_count": 3,
      "metadata": {
        "id": "JLbuzgtAlG3V",
        "colab": {
          "base_uri": "https://localhost:8080/"
        },
        "outputId": "7e768c36-f174-4a28-f531-f63202833070"
      },
      "outputs": [
        {
          "output_type": "stream",
          "name": "stdout",
          "text": [
            "Downloading data from https://www.cs.toronto.edu/~kriz/cifar-10-python.tar.gz\n",
            "170500096/170498071 [==============================] - 2s 0us/step\n",
            "170508288/170498071 [==============================] - 2s 0us/step\n"
          ]
        }
      ],
      "source": [
        "# TensorFlow ≥2.0 is required\n",
        "import tensorflow as tf\n",
        "from tensorflow import keras\n",
        "assert tf.__version__ >= \"2.0\"\n",
        "\n",
        "import numpy as np\n",
        "import matplotlib.pyplot as plt\n",
        "\n",
        "%matplotlib inline\n",
        "\n",
        "keras.backend.clear_session()\n",
        "tf.random.set_seed(42)\n",
        "np.random.seed(42)\n",
        "\n",
        "(X_train_full, y_train_full), (X_test, y_test) = keras.datasets.cifar10.load_data()\n",
        "\n",
        "X_train = X_train_full[5000:]\n",
        "y_train = y_train_full[5000:]\n",
        "X_valid = X_train_full[:5000]\n",
        "y_valid = y_train_full[:5000]"
      ]
    },
    {
      "cell_type": "markdown",
      "metadata": {
        "id": "1uAPEhXIlG3V"
      },
      "source": [
        "### Question 2.1 (10 points) \n",
        "\n",
        "Build a Deep Neural Network (DNN) with 20 hidden layers of 100 neurons each (that’s too many, but it’s the point of this question), using the RELU activation function.\n",
        "\n",
        "Using Adam optimization, train the network on the CIFAR10 dataset. You can load it with keras.datasets.cifar10.load_ data() (see code below). The dataset is composed of 60,000 32 × 32–pixel color images (50,000 for training, 5000 of which is for validation, 10,000 for testing) with 10 classes using sparse_categorical_crossentropy loss function , so you’ll need a softmax output layer with 10 neurons. \n",
        "\n",
        "Train the model for 100 epochs, explain whether the model will experience overfitting. "
      ]
    },
    {
      "cell_type": "markdown",
      "source": [
        "What to do here: \n",
        "- DNN mit: 20 hidden layers á 100 neurons (RELU activation function)\n",
        "- Load data mit keras.datasets.cifar10.load_ data()\n",
        "- Train DNN on CIFAR10 dataset mit Adam Optimization\n",
        "- Softmax output layer mit 10 neurons\n",
        "- Compile, train, report, plot"
      ],
      "metadata": {
        "id": "hgkjHBT-l8-f"
      }
    },
    {
      "cell_type": "code",
      "source": [
        "from tensorflow.keras.datasets import cifar10 "
      ],
      "metadata": {
        "id": "MVqXGC13A7qF"
      },
      "execution_count": 4,
      "outputs": []
    },
    {
      "cell_type": "code",
      "source": [
        "# Define class names over which the dataset is distributed\n",
        "class_names = [\"airplane\",\"automobile\",\"bird\",\"cat\",\"deer\",\"dog\",\"frog\",\n",
        "               \"horse\",\"ship\",\"truck\"]"
      ],
      "metadata": {
        "id": "KGdf1Kv4A-QA"
      },
      "execution_count": 5,
      "outputs": []
    },
    {
      "cell_type": "code",
      "source": [
        "# Let's check an image to see what we have in our set \n",
        "plt.imshow(X_train[333], cmap = \"binary\")\n",
        "plt.axis(\"off\")\n",
        "plt.show()"
      ],
      "metadata": {
        "colab": {
          "base_uri": "https://localhost:8080/",
          "height": 248
        },
        "id": "sTJqlhvSBFUf",
        "outputId": "7e289745-4ea0-4701-ee7c-87812a4ab0f1"
      },
      "execution_count": 6,
      "outputs": [
        {
          "output_type": "display_data",
          "data": {
            "text/plain": [
              "<Figure size 432x288 with 1 Axes>"
            ],
            "image/png": "[encoded data removed]"
          },
          "metadata": {
            "needs_background": "light"
          }
        }
      ]
    },
    {
      "cell_type": "code",
      "source": [
        "# Let's build a NN model \n",
        "cifar10_model = tf.keras.models.Sequential()"
      ],
      "metadata": {
        "id": "SArGV-MEBHep"
      },
      "execution_count": 7,
      "outputs": []
    },
    {
      "cell_type": "code",
      "source": [
        "# Input layer\n",
        "cifar10_model.add(keras.layers.Flatten(input_shape=[32, 32, 3]))\n",
        "\n",
        "# Create 20 hidden layers\n",
        "for n_hidden in range(20):\n",
        "    cifar10_model.add(keras.layers.Dense(100, activation=\"relu\"))\n",
        "\n",
        "# Output layer: SOFTMAX activation as it gives the probabilities of each class\n",
        "cifar10_model.add(keras.layers.Dense(10, activation=\"softmax\"))"
      ],
      "metadata": {
        "id": "VvNNTlYGBKiy"
      },
      "execution_count": 8,
      "outputs": []
    },
    {
      "cell_type": "code",
      "source": [
        "cifar10_model.summary()"
      ],
      "metadata": {
        "colab": {
          "base_uri": "https://localhost:8080/"
        },
        "id": "RUbfWtuWI-tw",
        "outputId": "01e8e27d-2908-419f-e1fe-e03442c18ccb"
      },
      "execution_count": 9,
      "outputs": [
        {
          "output_type": "stream",
          "name": "stdout",
          "text": [
            "Model: \"sequential\"\n",
            "_________________________________________________________________\n",
            " Layer (type)                Output Shape              Param #   \n",
            "=================================================================\n",
            " flatten (Flatten)           (None, 3072)              0         \n",
            "                                                                 \n",
            " dense (Dense)               (None, 100)               307300    \n",
            "                                                                 \n",
            " dense_1 (Dense)             (None, 100)               10100     \n",
            "                                                                 \n",
            " dense_2 (Dense)             (None, 100)               10100     \n",
            "                                                                 \n",
            " dense_3 (Dense)             (None, 100)               10100     \n",
            "                                                                 \n",
            " dense_4 (Dense)             (None, 100)               10100     \n",
            "                                                                 \n",
            " dense_5 (Dense)             (None, 100)               10100     \n",
            "                                                                 \n",
            " dense_6 (Dense)             (None, 100)               10100     \n",
            "                                                                 \n",
            " dense_7 (Dense)             (None, 100)               10100     \n",
            "                                                                 \n",
            " dense_8 (Dense)             (None, 100)               10100     \n",
            "                                                                 \n",
            " dense_9 (Dense)             (None, 100)               10100     \n",
            "                                                                 \n",
            " dense_10 (Dense)            (None, 100)               10100     \n",
            "                                                                 \n",
            " dense_11 (Dense)            (None, 100)               10100     \n",
            "                                                                 \n",
            " dense_12 (Dense)            (None, 100)               10100     \n",
            "                                                                 \n",
            " dense_13 (Dense)            (None, 100)               10100     \n",
            "                                                                 \n",
            " dense_14 (Dense)            (None, 100)               10100     \n",
            "                                                                 \n",
            " dense_15 (Dense)            (None, 100)               10100     \n",
            "                                                                 \n",
            " dense_16 (Dense)            (None, 100)               10100     \n",
            "                                                                 \n",
            " dense_17 (Dense)            (None, 100)               10100     \n",
            "                                                                 \n",
            " dense_18 (Dense)            (None, 100)               10100     \n",
            "                                                                 \n",
            " dense_19 (Dense)            (None, 100)               10100     \n",
            "                                                                 \n",
            " dense_20 (Dense)            (None, 10)                1010      \n",
            "                                                                 \n",
            "=================================================================\n",
            "Total params: 500,210\n",
            "Trainable params: 500,210\n",
            "Non-trainable params: 0\n",
            "_________________________________________________________________\n"
          ]
        }
      ]
    },
    {
      "cell_type": "code",
      "source": [
        "# Compile and train the model \n",
        "cifar10_model.compile(loss=\"sparse_categorical_crossentropy\",\n",
        "                optimizer=\"adam\",\n",
        "                metrics=[\"accuracy\"])\n",
        "\n",
        "n_epochs = 100\n",
        "history = cifar10_model.fit(X_train, y_train, epochs=n_epochs,\n",
        "                    validation_data=(X_valid, y_valid))"
      ],
      "metadata": {
        "id": "VyH0WVqpBjfj",
        "colab": {
          "base_uri": "https://localhost:8080/"
        },
        "outputId": "f3e79d61-1ec6-406a-b171-98c033476192"
      },
      "execution_count": 10,
      "outputs": [
        {
          "output_type": "stream",
          "name": "stdout",
          "text": [
            "Epoch 1/100\n",
            "1407/1407 [==============================] - 16s 10ms/step - loss: 2.1029 - accuracy: 0.1752 - val_loss: 2.0498 - val_accuracy: 0.1824\n",
            "Epoch 2/100\n",
            "1407/1407 [==============================] - 14s 10ms/step - loss: 2.0185 - accuracy: 0.1980 - val_loss: 2.0018 - val_accuracy: 0.2114\n",
            "Epoch 3/100\n",
            "1407/1407 [==============================] - 13s 10ms/step - loss: 1.9896 - accuracy: 0.2113 - val_loss: 1.9808 - val_accuracy: 0.2152\n",
            "Epoch 4/100\n",
            "1407/1407 [==============================] - 14s 10ms/step - loss: 1.9716 - accuracy: 0.2192 - val_loss: 2.0598 - val_accuracy: 0.2196\n",
            "Epoch 5/100\n",
            "1407/1407 [==============================] - 13s 9ms/step - loss: 1.9478 - accuracy: 0.2358 - val_loss: 1.9429 - val_accuracy: 0.2372\n",
            "Epoch 6/100\n",
            "1407/1407 [==============================] - 14s 10ms/step - loss: 1.9247 - accuracy: 0.2526 - val_loss: 1.9233 - val_accuracy: 0.2538\n",
            "Epoch 7/100\n",
            "1407/1407 [==============================] - 13s 10ms/step - loss: 1.9107 - accuracy: 0.2584 - val_loss: 2.0050 - val_accuracy: 0.2382\n",
            "Epoch 8/100\n",
            "1407/1407 [==============================] - 13s 10ms/step - loss: 1.9160 - accuracy: 0.2554 - val_loss: 1.8920 - val_accuracy: 0.2714\n",
            "Epoch 9/100\n",
            "1407/1407 [==============================] - 13s 10ms/step - loss: 1.9287 - accuracy: 0.2561 - val_loss: 1.9422 - val_accuracy: 0.2674\n",
            "Epoch 10/100\n",
            "1407/1407 [==============================] - 14s 10ms/step - loss: 1.9598 - accuracy: 0.2444 - val_loss: 1.9067 - val_accuracy: 0.2630\n",
            "Epoch 11/100\n",
            "1407/1407 [==============================] - 13s 10ms/step - loss: 1.9193 - accuracy: 0.2560 - val_loss: 1.9035 - val_accuracy: 0.2612\n",
            "Epoch 12/100\n",
            "1407/1407 [==============================] - 13s 9ms/step - loss: 1.9550 - accuracy: 0.2468 - val_loss: 1.9411 - val_accuracy: 0.2556\n",
            "Epoch 13/100\n",
            "1407/1407 [==============================] - 13s 10ms/step - loss: 1.9342 - accuracy: 0.2511 - val_loss: 1.9195 - val_accuracy: 0.2654\n",
            "Epoch 14/100\n",
            "1407/1407 [==============================] - 13s 9ms/step - loss: 1.9842 - accuracy: 0.2296 - val_loss: 1.9830 - val_accuracy: 0.2434\n",
            "Epoch 15/100\n",
            "1407/1407 [==============================] - 13s 9ms/step - loss: 1.9822 - accuracy: 0.2278 - val_loss: 1.9638 - val_accuracy: 0.2454\n",
            "Epoch 16/100\n",
            "1407/1407 [==============================] - 13s 9ms/step - loss: 1.9853 - accuracy: 0.2283 - val_loss: 1.9852 - val_accuracy: 0.2114\n",
            "Epoch 17/100\n",
            "1407/1407 [==============================] - 13s 9ms/step - loss: 1.9772 - accuracy: 0.2199 - val_loss: 1.9552 - val_accuracy: 0.2308\n",
            "Epoch 18/100\n",
            "1407/1407 [==============================] - 13s 10ms/step - loss: 1.9744 - accuracy: 0.2348 - val_loss: 1.9737 - val_accuracy: 0.2326\n",
            "Epoch 19/100\n",
            "1407/1407 [==============================] - 14s 10ms/step - loss: 1.9969 - accuracy: 0.2082 - val_loss: 2.0139 - val_accuracy: 0.2010\n",
            "Epoch 20/100\n",
            "1407/1407 [==============================] - 13s 10ms/step - loss: 1.9633 - accuracy: 0.2161 - val_loss: 1.9646 - val_accuracy: 0.2292\n",
            "Epoch 21/100\n",
            "1407/1407 [==============================] - 13s 9ms/step - loss: 1.9416 - accuracy: 0.2313 - val_loss: 1.9430 - val_accuracy: 0.2434\n",
            "Epoch 22/100\n",
            "1407/1407 [==============================] - 13s 9ms/step - loss: 1.9269 - accuracy: 0.2423 - val_loss: 1.9225 - val_accuracy: 0.2426\n",
            "Epoch 23/100\n",
            "1407/1407 [==============================] - 14s 10ms/step - loss: 1.9030 - accuracy: 0.2549 - val_loss: 1.9328 - val_accuracy: 0.2508\n",
            "Epoch 24/100\n",
            "1407/1407 [==============================] - 14s 10ms/step - loss: 1.8877 - accuracy: 0.2659 - val_loss: 1.8901 - val_accuracy: 0.2738\n",
            "Epoch 25/100\n",
            "1407/1407 [==============================] - 13s 10ms/step - loss: 1.8754 - accuracy: 0.2724 - val_loss: 1.8972 - val_accuracy: 0.2742\n",
            "Epoch 26/100\n",
            "1407/1407 [==============================] - 14s 10ms/step - loss: 1.8681 - accuracy: 0.2753 - val_loss: 1.8820 - val_accuracy: 0.2726\n",
            "Epoch 27/100\n",
            "1407/1407 [==============================] - 13s 9ms/step - loss: 1.8653 - accuracy: 0.2758 - val_loss: 1.8917 - val_accuracy: 0.2724\n",
            "Epoch 28/100\n",
            "1407/1407 [==============================] - 13s 10ms/step - loss: 1.8568 - accuracy: 0.2804 - val_loss: 1.8826 - val_accuracy: 0.2784\n",
            "Epoch 29/100\n",
            "1407/1407 [==============================] - 14s 10ms/step - loss: 1.8520 - accuracy: 0.2889 - val_loss: 1.8807 - val_accuracy: 0.2808\n",
            "Epoch 30/100\n",
            "1407/1407 [==============================] - 14s 10ms/step - loss: 1.8775 - accuracy: 0.2845 - val_loss: 1.9139 - val_accuracy: 0.2702\n",
            "Epoch 31/100\n",
            "1407/1407 [==============================] - 13s 9ms/step - loss: 1.8507 - accuracy: 0.2907 - val_loss: 1.8686 - val_accuracy: 0.2952\n",
            "Epoch 32/100\n",
            "1407/1407 [==============================] - 13s 10ms/step - loss: 1.8446 - accuracy: 0.2936 - val_loss: 1.8935 - val_accuracy: 0.2748\n",
            "Epoch 33/100\n",
            "1407/1407 [==============================] - 13s 10ms/step - loss: 1.8391 - accuracy: 0.3001 - val_loss: 1.8625 - val_accuracy: 0.3012\n",
            "Epoch 34/100\n",
            "1407/1407 [==============================] - 14s 10ms/step - loss: 1.8392 - accuracy: 0.3057 - val_loss: 1.9403 - val_accuracy: 0.2764\n",
            "Epoch 35/100\n",
            "1407/1407 [==============================] - 14s 10ms/step - loss: 1.8417 - accuracy: 0.3063 - val_loss: 1.8815 - val_accuracy: 0.3062\n",
            "Epoch 36/100\n",
            "1407/1407 [==============================] - 14s 10ms/step - loss: 1.8414 - accuracy: 0.3114 - val_loss: 1.8659 - val_accuracy: 0.3046\n",
            "Epoch 37/100\n",
            "1407/1407 [==============================] - 13s 10ms/step - loss: 1.8436 - accuracy: 0.3077 - val_loss: 1.8568 - val_accuracy: 0.3066\n",
            "Epoch 38/100\n",
            "1407/1407 [==============================] - 14s 10ms/step - loss: 1.8490 - accuracy: 0.3071 - val_loss: 1.8817 - val_accuracy: 0.3074\n",
            "Epoch 39/100\n",
            "1407/1407 [==============================] - 14s 10ms/step - loss: 1.8700 - accuracy: 0.3022 - val_loss: 1.8903 - val_accuracy: 0.3046\n",
            "Epoch 40/100\n",
            "1407/1407 [==============================] - 14s 10ms/step - loss: 1.8555 - accuracy: 0.3034 - val_loss: 1.9090 - val_accuracy: 0.2942\n",
            "Epoch 41/100\n",
            "1407/1407 [==============================] - 14s 10ms/step - loss: 1.8835 - accuracy: 0.2958 - val_loss: 1.8743 - val_accuracy: 0.3100\n",
            "Epoch 42/100\n",
            "1407/1407 [==============================] - 13s 10ms/step - loss: 1.8686 - accuracy: 0.3038 - val_loss: 1.8608 - val_accuracy: 0.3112\n",
            "Epoch 43/100\n",
            "1407/1407 [==============================] - 13s 9ms/step - loss: 1.8748 - accuracy: 0.2967 - val_loss: 1.8595 - val_accuracy: 0.3134\n",
            "Epoch 44/100\n",
            "1407/1407 [==============================] - 13s 9ms/step - loss: 1.8885 - accuracy: 0.2892 - val_loss: 1.8586 - val_accuracy: 0.2992\n",
            "Epoch 45/100\n",
            "1407/1407 [==============================] - 13s 10ms/step - loss: 1.8707 - accuracy: 0.2949 - val_loss: 1.8644 - val_accuracy: 0.3020\n",
            "Epoch 46/100\n",
            "1407/1407 [==============================] - 14s 10ms/step - loss: 1.8833 - accuracy: 0.2864 - val_loss: 1.8753 - val_accuracy: 0.2982\n",
            "Epoch 47/100\n",
            "1407/1407 [==============================] - 13s 10ms/step - loss: 1.9596 - accuracy: 0.2620 - val_loss: 1.9000 - val_accuracy: 0.2952\n",
            "Epoch 48/100\n",
            "1407/1407 [==============================] - 14s 10ms/step - loss: 1.9172 - accuracy: 0.2710 - val_loss: 1.9139 - val_accuracy: 0.2818\n",
            "Epoch 49/100\n",
            "1407/1407 [==============================] - 14s 10ms/step - loss: 1.9048 - accuracy: 0.2770 - val_loss: 1.8888 - val_accuracy: 0.2860\n",
            "Epoch 50/100\n",
            "1407/1407 [==============================] - 14s 10ms/step - loss: 1.9053 - accuracy: 0.2769 - val_loss: 1.9003 - val_accuracy: 0.2954\n",
            "Epoch 51/100\n",
            "1407/1407 [==============================] - 13s 10ms/step - loss: 1.9096 - accuracy: 0.2749 - val_loss: 1.8889 - val_accuracy: 0.2914\n",
            "Epoch 52/100\n",
            "1407/1407 [==============================] - 13s 10ms/step - loss: 1.8983 - accuracy: 0.2792 - val_loss: 1.9138 - val_accuracy: 0.2678\n",
            "Epoch 53/100\n",
            "1407/1407 [==============================] - 14s 10ms/step - loss: 1.9434 - accuracy: 0.2568 - val_loss: 2.1345 - val_accuracy: 0.1796\n",
            "Epoch 54/100\n",
            "1407/1407 [==============================] - 13s 9ms/step - loss: 1.9634 - accuracy: 0.2466 - val_loss: 1.9305 - val_accuracy: 0.2490\n",
            "Epoch 55/100\n",
            "1407/1407 [==============================] - 14s 10ms/step - loss: 1.9588 - accuracy: 0.2411 - val_loss: 1.8993 - val_accuracy: 0.2842\n",
            "Epoch 56/100\n",
            "1407/1407 [==============================] - 13s 9ms/step - loss: 1.9575 - accuracy: 0.2386 - val_loss: 2.0204 - val_accuracy: 0.1950\n",
            "Epoch 57/100\n",
            "1407/1407 [==============================] - 14s 10ms/step - loss: 1.9394 - accuracy: 0.2452 - val_loss: 1.9399 - val_accuracy: 0.2526\n",
            "Epoch 58/100\n",
            "1407/1407 [==============================] - 14s 10ms/step - loss: 1.9037 - accuracy: 0.2658 - val_loss: 1.9278 - val_accuracy: 0.2558\n",
            "Epoch 59/100\n",
            "1407/1407 [==============================] - 14s 10ms/step - loss: 1.9815 - accuracy: 0.2124 - val_loss: 1.9544 - val_accuracy: 0.2168\n",
            "Epoch 60/100\n",
            "1407/1407 [==============================] - 13s 9ms/step - loss: 1.9570 - accuracy: 0.2234 - val_loss: 1.9690 - val_accuracy: 0.2142\n",
            "Epoch 61/100\n",
            "1407/1407 [==============================] - 13s 9ms/step - loss: 1.9545 - accuracy: 0.2326 - val_loss: 1.9287 - val_accuracy: 0.2614\n",
            "Epoch 62/100\n",
            "1407/1407 [==============================] - 13s 9ms/step - loss: 2.0008 - accuracy: 0.2180 - val_loss: 1.9902 - val_accuracy: 0.2006\n",
            "Epoch 63/100\n",
            "1407/1407 [==============================] - 13s 9ms/step - loss: 1.9713 - accuracy: 0.2156 - val_loss: 1.9791 - val_accuracy: 0.2132\n",
            "Epoch 64/100\n",
            "1407/1407 [==============================] - 14s 10ms/step - loss: 2.1170 - accuracy: 0.1780 - val_loss: 2.2919 - val_accuracy: 0.1114\n",
            "Epoch 65/100\n",
            "1407/1407 [==============================] - 14s 10ms/step - loss: 2.2264 - accuracy: 0.1469 - val_loss: 2.2100 - val_accuracy: 0.1594\n",
            "Epoch 66/100\n",
            "1407/1407 [==============================] - 13s 9ms/step - loss: 2.0822 - accuracy: 0.1849 - val_loss: 1.9942 - val_accuracy: 0.2358\n",
            "Epoch 67/100\n",
            "1407/1407 [==============================] - 13s 9ms/step - loss: 1.9685 - accuracy: 0.2240 - val_loss: 1.9587 - val_accuracy: 0.2382\n",
            "Epoch 68/100\n",
            "1407/1407 [==============================] - 13s 9ms/step - loss: 1.9292 - accuracy: 0.2421 - val_loss: 1.9381 - val_accuracy: 0.2442\n",
            "Epoch 69/100\n",
            "1407/1407 [==============================] - 13s 10ms/step - loss: 1.9189 - accuracy: 0.2466 - val_loss: 2.0753 - val_accuracy: 0.1756\n",
            "Epoch 70/100\n",
            "1407/1407 [==============================] - 13s 9ms/step - loss: 2.0174 - accuracy: 0.1963 - val_loss: 1.9949 - val_accuracy: 0.2084\n",
            "Epoch 71/100\n",
            "1407/1407 [==============================] - 13s 10ms/step - loss: 1.9617 - accuracy: 0.2280 - val_loss: 1.9855 - val_accuracy: 0.2150\n",
            "Epoch 72/100\n",
            "1407/1407 [==============================] - 14s 10ms/step - loss: 1.9097 - accuracy: 0.2515 - val_loss: 1.9486 - val_accuracy: 0.2438\n",
            "Epoch 73/100\n",
            "1407/1407 [==============================] - 13s 10ms/step - loss: 1.9678 - accuracy: 0.2306 - val_loss: 1.9584 - val_accuracy: 0.2330\n",
            "Epoch 74/100\n",
            "1407/1407 [==============================] - 13s 9ms/step - loss: 1.9409 - accuracy: 0.2357 - val_loss: 2.0051 - val_accuracy: 0.2196\n",
            "Epoch 75/100\n",
            "1407/1407 [==============================] - 13s 9ms/step - loss: 1.8968 - accuracy: 0.2591 - val_loss: 1.9049 - val_accuracy: 0.2626\n",
            "Epoch 76/100\n",
            "1407/1407 [==============================] - 13s 10ms/step - loss: 1.8947 - accuracy: 0.2615 - val_loss: 2.1738 - val_accuracy: 0.1744\n",
            "Epoch 77/100\n",
            "1407/1407 [==============================] - 13s 10ms/step - loss: 1.9105 - accuracy: 0.2535 - val_loss: 1.9037 - val_accuracy: 0.2784\n",
            "Epoch 78/100\n",
            "1407/1407 [==============================] - 13s 9ms/step - loss: 1.8678 - accuracy: 0.2771 - val_loss: 1.9128 - val_accuracy: 0.2656\n",
            "Epoch 79/100\n",
            "1407/1407 [==============================] - 13s 9ms/step - loss: 1.8569 - accuracy: 0.2839 - val_loss: 1.8848 - val_accuracy: 0.2720\n",
            "Epoch 80/100\n",
            "1407/1407 [==============================] - 13s 9ms/step - loss: 1.8596 - accuracy: 0.2865 - val_loss: 1.8983 - val_accuracy: 0.2922\n",
            "Epoch 81/100\n",
            "1407/1407 [==============================] - 14s 10ms/step - loss: 1.8418 - accuracy: 0.2957 - val_loss: 1.9166 - val_accuracy: 0.2772\n",
            "Epoch 82/100\n",
            "1407/1407 [==============================] - 13s 9ms/step - loss: 1.8375 - accuracy: 0.2994 - val_loss: 1.8933 - val_accuracy: 0.2822\n",
            "Epoch 83/100\n",
            "1407/1407 [==============================] - 14s 10ms/step - loss: 1.8307 - accuracy: 0.3033 - val_loss: 1.8668 - val_accuracy: 0.2926\n",
            "Epoch 84/100\n",
            "1407/1407 [==============================] - 13s 9ms/step - loss: 1.8311 - accuracy: 0.3070 - val_loss: 1.8807 - val_accuracy: 0.2992\n",
            "Epoch 85/100\n",
            "1407/1407 [==============================] - 13s 9ms/step - loss: 1.8236 - accuracy: 0.3100 - val_loss: 1.8647 - val_accuracy: 0.3074\n",
            "Epoch 86/100\n",
            "1407/1407 [==============================] - 13s 10ms/step - loss: 1.8147 - accuracy: 0.3163 - val_loss: 1.8922 - val_accuracy: 0.2922\n",
            "Epoch 87/100\n",
            "1407/1407 [==============================] - 13s 9ms/step - loss: 1.8063 - accuracy: 0.3214 - val_loss: 1.8495 - val_accuracy: 0.3078\n",
            "Epoch 88/100\n",
            "1407/1407 [==============================] - 13s 10ms/step - loss: 1.8053 - accuracy: 0.3236 - val_loss: 1.8453 - val_accuracy: 0.3178\n",
            "Epoch 89/100\n",
            "1407/1407 [==============================] - 14s 10ms/step - loss: 1.8083 - accuracy: 0.3262 - val_loss: 1.8653 - val_accuracy: 0.3012\n",
            "Epoch 90/100\n",
            "1407/1407 [==============================] - 13s 10ms/step - loss: 1.8156 - accuracy: 0.3203 - val_loss: 1.8496 - val_accuracy: 0.3150\n",
            "Epoch 91/100\n",
            "1407/1407 [==============================] - 14s 10ms/step - loss: 1.8168 - accuracy: 0.3173 - val_loss: 1.8495 - val_accuracy: 0.3116\n",
            "Epoch 92/100\n",
            "1407/1407 [==============================] - 14s 10ms/step - loss: 1.7934 - accuracy: 0.3273 - val_loss: 1.8564 - val_accuracy: 0.3098\n",
            "Epoch 93/100\n",
            "1407/1407 [==============================] - 13s 10ms/step - loss: 1.7981 - accuracy: 0.3283 - val_loss: 1.8365 - val_accuracy: 0.3252\n",
            "Epoch 94/100\n",
            "1407/1407 [==============================] - 13s 10ms/step - loss: 1.8063 - accuracy: 0.3262 - val_loss: 1.8810 - val_accuracy: 0.3124\n",
            "Epoch 95/100\n",
            "1407/1407 [==============================] - 14s 10ms/step - loss: 1.8057 - accuracy: 0.3256 - val_loss: 1.9578 - val_accuracy: 0.2730\n",
            "Epoch 96/100\n",
            "1407/1407 [==============================] - 14s 10ms/step - loss: 1.8108 - accuracy: 0.3204 - val_loss: 1.8201 - val_accuracy: 0.3308\n",
            "Epoch 97/100\n",
            "1407/1407 [==============================] - 13s 9ms/step - loss: 1.7891 - accuracy: 0.3317 - val_loss: 1.8282 - val_accuracy: 0.3150\n",
            "Epoch 98/100\n",
            "1407/1407 [==============================] - 13s 10ms/step - loss: 1.8146 - accuracy: 0.3206 - val_loss: 1.8154 - val_accuracy: 0.3272\n",
            "Epoch 99/100\n",
            "1407/1407 [==============================] - 13s 9ms/step - loss: 1.7695 - accuracy: 0.3350 - val_loss: 1.9776 - val_accuracy: 0.2682\n",
            "Epoch 100/100\n",
            "1407/1407 [==============================] - 13s 10ms/step - loss: 1.7794 - accuracy: 0.3257 - val_loss: 1.7612 - val_accuracy: 0.3390\n"
          ]
        }
      ]
    },
    {
      "cell_type": "code",
      "source": [
        "test_loss, test_accuracy = cifar10_model.evaluate(X_test, y_test)"
      ],
      "metadata": {
        "colab": {
          "base_uri": "https://localhost:8080/"
        },
        "id": "Hgbkg94RHv8l",
        "outputId": "b6904dd0-2b96-4f02-9cb7-259a560796a9"
      },
      "execution_count": 11,
      "outputs": [
        {
          "output_type": "stream",
          "name": "stdout",
          "text": [
            "313/313 [==============================] - 1s 3ms/step - loss: 1.7640 - accuracy: 0.3287\n"
          ]
        }
      ]
    },
    {
      "cell_type": "code",
      "source": [
        "print(\"Test accuracy: {}\".format(test_accuracy))\n",
        "print(\"\")\n",
        "print(\"Test loss: {}\".format(test_loss))\n"
      ],
      "metadata": {
        "colab": {
          "base_uri": "https://localhost:8080/"
        },
        "id": "jpeiIUe9gU1Y",
        "outputId": "63a07061-1253-4182-d1a9-0da8d58bec55"
      },
      "execution_count": 12,
      "outputs": [
        {
          "output_type": "stream",
          "name": "stdout",
          "text": [
            "Test accuracy: 0.3287000060081482\n",
            "\n",
            "Test loss: 1.763992428779602\n"
          ]
        }
      ]
    },
    {
      "cell_type": "code",
      "source": [
        "# Plot history for the model's accuracy\n",
        "plt.plot(history.history['accuracy'])\n",
        "plt.plot(history.history['val_accuracy'])\n",
        "plt.title('Model Accuracy')\n",
        "plt.ylabel('Accuracy')\n",
        "plt.xlabel('Epochs')\n",
        "plt.legend(['train', 'test'], loc='upper left')\n",
        "plt.show()"
      ],
      "metadata": {
        "colab": {
          "base_uri": "https://localhost:8080/",
          "height": 295
        },
        "id": "yOhn37tZIWSU",
        "outputId": "8a422a0b-9e67-4f05-db4f-5eefe0a8882a"
      },
      "execution_count": 13,
      "outputs": [
        {
          "output_type": "display_data",
          "data": {
            "text/plain": [
              "<Figure size 432x288 with 1 Axes>"
            ],
            "image/png": "[encoded data removed]"
          },
          "metadata": {
            "needs_background": "light"
          }
        }
      ]
    },
    {
      "cell_type": "code",
      "source": [
        "# Plot history for the model's loss\n",
        "plt.plot(history.history['loss'])\n",
        "plt.plot(history.history['val_loss'])\n",
        "plt.title('Model Loss')\n",
        "plt.ylabel('Loss')\n",
        "plt.xlabel('Epochs')\n",
        "plt.legend(['train', 'test'], loc='upper right')\n",
        "plt.show()"
      ],
      "metadata": {
        "colab": {
          "base_uri": "https://localhost:8080/",
          "height": 295
        },
        "id": "E0DsRFecIcLL",
        "outputId": "503dfdcf-ee4a-4406-cc84-b419cf6b198b"
      },
      "execution_count": 14,
      "outputs": [
        {
          "output_type": "display_data",
          "data": {
            "text/plain": [
              "<Figure size 432x288 with 1 Axes>"
            ],
            "image/png": "[encoded data removed]"
          },
          "metadata": {
            "needs_background": "light"
          }
        }
      ]
    },
    {
      "cell_type": "markdown",
      "source": [
        "The plots of the model's accuracy and loss functions demonstrate that overfitting happens after a few epochs as the training and test dataset intercept. The accuracy of the model is just 32.87% and needs to be improved. "
      ],
      "metadata": {
        "id": "IWPAJzvbo4cT"
      }
    },
    {
      "cell_type": "markdown",
      "metadata": {
        "id": "b5N3Xa5tlG3W"
      },
      "source": [
        "### Question 2.2 (10 points)\n",
        "\n",
        "Try reduce the overfitting with weight regularization. You can try to add a L2-norm penalty term as the kernel_regularizer. Repeat the previous training process and explain whether regularization helps achieve a better result."
      ]
    },
    {
      "cell_type": "code",
      "source": [
        "keras.backend.clear_session()\n",
        "from tensorflow.keras import regularizers\n",
        "\n",
        "cifar10_model2 = tf.keras.models.Sequential()"
      ],
      "metadata": {
        "id": "VYjpH2Nygi3v"
      },
      "execution_count": 15,
      "outputs": []
    },
    {
      "cell_type": "code",
      "execution_count": 16,
      "metadata": {
        "id": "xon4_FELlG3X"
      },
      "outputs": [],
      "source": [
        "# Input layer\n",
        "cifar10_model2.add(keras.layers.Flatten(input_shape=[32, 32, 3]))\n",
        "\n",
        "# Create 20 hidden layers\n",
        "for n_hidden in range(20):\n",
        "    cifar10_model2.add(keras.layers.Dense(100, activation=\"relu\",\n",
        "                                          kernel_initializer=\"he_normal\",\n",
        "                                          kernel_regularizer=keras.regularizers.l2(0.01)))\n",
        "\n",
        "# Output layer: SOFTMAX activation as it gives the probabilities of each class\n",
        "cifar10_model2.add(keras.layers.Dense(10, activation=\"softmax\",\n",
        "                                      kernel_initializer=\"he_normal\",\n",
        "                                      kernel_regularizer=keras.regularizers.l2(0.01)))"
      ]
    },
    {
      "cell_type": "code",
      "source": [
        "cifar10_model2.compile(loss=\"sparse_categorical_crossentropy\", \n",
        "                      optimizer=\"adam\", \n",
        "                      metrics=[\"accuracy\"])\n",
        "n_epochs = 100\n",
        "history2 = cifar10_model2.fit(X_train, y_train, epochs=n_epochs,\n",
        "                    validation_data=(X_valid, y_valid))"
      ],
      "metadata": {
        "colab": {
          "base_uri": "https://localhost:8080/"
        },
        "id": "aU3wp4uVzyWI",
        "outputId": "2d03b5d5-54b1-400c-a613-261a70eb623b"
      },
      "execution_count": 17,
      "outputs": [
        {
          "output_type": "stream",
          "name": "stdout",
          "text": [
            "Epoch 1/100\n",
            "1407/1407 [==============================] - 17s 11ms/step - loss: 26.8955 - accuracy: 0.1950 - val_loss: 20.8446 - val_accuracy: 0.2624\n",
            "Epoch 2/100\n",
            "1407/1407 [==============================] - 15s 11ms/step - loss: 17.8644 - accuracy: 0.2743 - val_loss: 15.0509 - val_accuracy: 0.3010\n",
            "Epoch 3/100\n",
            "1407/1407 [==============================] - 15s 11ms/step - loss: 12.6896 - accuracy: 0.3029 - val_loss: 10.4232 - val_accuracy: 0.3032\n",
            "Epoch 4/100\n",
            "1407/1407 [==============================] - 15s 11ms/step - loss: 8.5217 - accuracy: 0.3071 - val_loss: 6.7763 - val_accuracy: 0.3238\n",
            "Epoch 5/100\n",
            "1407/1407 [==============================] - 15s 11ms/step - loss: 5.4443 - accuracy: 0.2954 - val_loss: 4.3068 - val_accuracy: 0.2874\n",
            "Epoch 6/100\n",
            "1407/1407 [==============================] - 15s 11ms/step - loss: 3.5335 - accuracy: 0.2829 - val_loss: 2.9970 - val_accuracy: 0.2482\n",
            "Epoch 7/100\n",
            "1407/1407 [==============================] - 16s 11ms/step - loss: 2.6692 - accuracy: 0.2705 - val_loss: 2.5151 - val_accuracy: 0.2480\n",
            "Epoch 8/100\n",
            "1407/1407 [==============================] - 16s 11ms/step - loss: 2.3712 - accuracy: 0.2384 - val_loss: 2.3017 - val_accuracy: 0.2464\n",
            "Epoch 9/100\n",
            "1407/1407 [==============================] - 16s 12ms/step - loss: 2.2766 - accuracy: 0.2393 - val_loss: 2.3855 - val_accuracy: 0.2070\n",
            "Epoch 10/100\n",
            "1407/1407 [==============================] - 16s 12ms/step - loss: 2.2686 - accuracy: 0.2351 - val_loss: 2.2707 - val_accuracy: 0.2310\n",
            "Epoch 11/100\n",
            "1407/1407 [==============================] - 16s 12ms/step - loss: 2.2617 - accuracy: 0.2345 - val_loss: 2.2171 - val_accuracy: 0.2538\n",
            "Epoch 12/100\n",
            "1407/1407 [==============================] - 17s 12ms/step - loss: 2.2583 - accuracy: 0.2340 - val_loss: 2.2423 - val_accuracy: 0.2494\n",
            "Epoch 13/100\n",
            "1407/1407 [==============================] - 16s 12ms/step - loss: 2.2487 - accuracy: 0.2396 - val_loss: 2.2188 - val_accuracy: 0.2468\n",
            "Epoch 14/100\n",
            "1407/1407 [==============================] - 17s 12ms/step - loss: 2.2548 - accuracy: 0.2359 - val_loss: 2.2017 - val_accuracy: 0.2652\n",
            "Epoch 15/100\n",
            "1407/1407 [==============================] - 17s 12ms/step - loss: 2.2531 - accuracy: 0.2394 - val_loss: 2.2280 - val_accuracy: 0.2530\n",
            "Epoch 16/100\n",
            "1407/1407 [==============================] - 17s 12ms/step - loss: 2.2479 - accuracy: 0.2419 - val_loss: 2.2291 - val_accuracy: 0.2544\n",
            "Epoch 17/100\n",
            "1407/1407 [==============================] - 16s 12ms/step - loss: 2.2453 - accuracy: 0.2451 - val_loss: 2.2160 - val_accuracy: 0.2484\n",
            "Epoch 18/100\n",
            "1407/1407 [==============================] - 17s 12ms/step - loss: 2.2477 - accuracy: 0.2411 - val_loss: 2.1983 - val_accuracy: 0.2710\n",
            "Epoch 19/100\n",
            "1407/1407 [==============================] - 16s 12ms/step - loss: 2.2448 - accuracy: 0.2459 - val_loss: 2.2910 - val_accuracy: 0.2298\n",
            "Epoch 20/100\n",
            "1407/1407 [==============================] - 16s 11ms/step - loss: 2.2410 - accuracy: 0.2440 - val_loss: 2.2396 - val_accuracy: 0.2194\n",
            "Epoch 21/100\n",
            "1407/1407 [==============================] - 16s 11ms/step - loss: 2.2414 - accuracy: 0.2442 - val_loss: 2.2698 - val_accuracy: 0.2260\n",
            "Epoch 22/100\n",
            "1407/1407 [==============================] - 16s 11ms/step - loss: 2.2416 - accuracy: 0.2469 - val_loss: 2.2095 - val_accuracy: 0.2512\n",
            "Epoch 23/100\n",
            "1407/1407 [==============================] - 16s 12ms/step - loss: 2.2393 - accuracy: 0.2474 - val_loss: 2.2238 - val_accuracy: 0.2584\n",
            "Epoch 24/100\n",
            "1407/1407 [==============================] - 16s 12ms/step - loss: 2.2409 - accuracy: 0.2467 - val_loss: 2.2040 - val_accuracy: 0.2544\n",
            "Epoch 25/100\n",
            "1407/1407 [==============================] - 17s 12ms/step - loss: 2.2373 - accuracy: 0.2500 - val_loss: 2.2025 - val_accuracy: 0.2766\n",
            "Epoch 26/100\n",
            "1407/1407 [==============================] - 17s 12ms/step - loss: 2.2313 - accuracy: 0.2506 - val_loss: 2.2085 - val_accuracy: 0.2652\n",
            "Epoch 27/100\n",
            "1407/1407 [==============================] - 16s 12ms/step - loss: 2.2370 - accuracy: 0.2468 - val_loss: 2.2126 - val_accuracy: 0.2590\n",
            "Epoch 28/100\n",
            "1407/1407 [==============================] - 16s 12ms/step - loss: 2.2367 - accuracy: 0.2462 - val_loss: 2.2289 - val_accuracy: 0.2560\n",
            "Epoch 29/100\n",
            "1407/1407 [==============================] - 17s 12ms/step - loss: 2.2320 - accuracy: 0.2498 - val_loss: 2.1843 - val_accuracy: 0.2744\n",
            "Epoch 30/100\n",
            "1407/1407 [==============================] - 17s 12ms/step - loss: 2.2308 - accuracy: 0.2537 - val_loss: 2.2444 - val_accuracy: 0.2596\n",
            "Epoch 31/100\n",
            "1407/1407 [==============================] - 17s 12ms/step - loss: 2.2214 - accuracy: 0.2575 - val_loss: 2.2311 - val_accuracy: 0.2566\n",
            "Epoch 32/100\n",
            "1407/1407 [==============================] - 16s 11ms/step - loss: 2.2280 - accuracy: 0.2547 - val_loss: 2.1842 - val_accuracy: 0.2766\n",
            "Epoch 33/100\n",
            "1407/1407 [==============================] - 16s 11ms/step - loss: 2.2276 - accuracy: 0.2574 - val_loss: 2.2693 - val_accuracy: 0.2524\n",
            "Epoch 34/100\n",
            "1407/1407 [==============================] - 17s 12ms/step - loss: 2.2255 - accuracy: 0.2584 - val_loss: 2.1851 - val_accuracy: 0.2848\n",
            "Epoch 35/100\n",
            "1407/1407 [==============================] - 17s 12ms/step - loss: 2.2254 - accuracy: 0.2575 - val_loss: 2.3873 - val_accuracy: 0.2296\n",
            "Epoch 36/100\n",
            "1407/1407 [==============================] - 17s 12ms/step - loss: 2.2226 - accuracy: 0.2557 - val_loss: 2.1843 - val_accuracy: 0.2714\n",
            "Epoch 37/100\n",
            "1407/1407 [==============================] - 17s 12ms/step - loss: 2.2245 - accuracy: 0.2563 - val_loss: 2.1864 - val_accuracy: 0.2654\n",
            "Epoch 38/100\n",
            "1407/1407 [==============================] - 16s 12ms/step - loss: 2.2235 - accuracy: 0.2552 - val_loss: 2.2243 - val_accuracy: 0.2652\n",
            "Epoch 39/100\n",
            "1407/1407 [==============================] - 17s 12ms/step - loss: 2.2200 - accuracy: 0.2583 - val_loss: 2.1801 - val_accuracy: 0.2768\n",
            "Epoch 40/100\n",
            "1407/1407 [==============================] - 17s 12ms/step - loss: 2.2180 - accuracy: 0.2580 - val_loss: 2.2043 - val_accuracy: 0.2602\n",
            "Epoch 41/100\n",
            "1407/1407 [==============================] - 17s 12ms/step - loss: 2.2177 - accuracy: 0.2565 - val_loss: 2.1882 - val_accuracy: 0.2728\n",
            "Epoch 42/100\n",
            "1407/1407 [==============================] - 17s 12ms/step - loss: 2.2253 - accuracy: 0.2575 - val_loss: 2.3119 - val_accuracy: 0.2510\n",
            "Epoch 43/100\n",
            "1407/1407 [==============================] - 17s 12ms/step - loss: 2.2211 - accuracy: 0.2577 - val_loss: 2.2555 - val_accuracy: 0.2560\n",
            "Epoch 44/100\n",
            "1407/1407 [==============================] - 17s 12ms/step - loss: 2.2252 - accuracy: 0.2541 - val_loss: 2.2281 - val_accuracy: 0.2500\n",
            "Epoch 45/100\n",
            "1407/1407 [==============================] - 17s 12ms/step - loss: 2.2201 - accuracy: 0.2597 - val_loss: 2.2021 - val_accuracy: 0.2686\n",
            "Epoch 46/100\n",
            "1407/1407 [==============================] - 17s 12ms/step - loss: 2.2202 - accuracy: 0.2576 - val_loss: 2.1982 - val_accuracy: 0.2676\n",
            "Epoch 47/100\n",
            "1407/1407 [==============================] - 17s 12ms/step - loss: 2.2238 - accuracy: 0.2585 - val_loss: 2.2798 - val_accuracy: 0.2410\n",
            "Epoch 48/100\n",
            "1407/1407 [==============================] - 16s 12ms/step - loss: 2.2243 - accuracy: 0.2539 - val_loss: 2.2520 - val_accuracy: 0.2370\n",
            "Epoch 49/100\n",
            "1407/1407 [==============================] - 16s 12ms/step - loss: 2.2213 - accuracy: 0.2583 - val_loss: 2.2015 - val_accuracy: 0.2566\n",
            "Epoch 50/100\n",
            "1407/1407 [==============================] - 16s 12ms/step - loss: 2.2193 - accuracy: 0.2591 - val_loss: 2.1990 - val_accuracy: 0.2738\n",
            "Epoch 51/100\n",
            "1407/1407 [==============================] - 16s 12ms/step - loss: 2.2246 - accuracy: 0.2581 - val_loss: 2.1794 - val_accuracy: 0.2704\n",
            "Epoch 52/100\n",
            "1407/1407 [==============================] - 16s 11ms/step - loss: 2.2196 - accuracy: 0.2545 - val_loss: 2.2147 - val_accuracy: 0.2574\n",
            "Epoch 53/100\n",
            "1407/1407 [==============================] - 16s 12ms/step - loss: 2.2221 - accuracy: 0.2576 - val_loss: 2.1793 - val_accuracy: 0.2840\n",
            "Epoch 54/100\n",
            "1407/1407 [==============================] - 17s 12ms/step - loss: 2.2187 - accuracy: 0.2619 - val_loss: 2.2162 - val_accuracy: 0.2612\n",
            "Epoch 55/100\n",
            "1407/1407 [==============================] - 16s 12ms/step - loss: 2.2236 - accuracy: 0.2598 - val_loss: 2.2509 - val_accuracy: 0.2540\n",
            "Epoch 56/100\n",
            "1407/1407 [==============================] - 16s 11ms/step - loss: 2.2187 - accuracy: 0.2586 - val_loss: 2.2844 - val_accuracy: 0.2488\n",
            "Epoch 57/100\n",
            "1407/1407 [==============================] - 16s 11ms/step - loss: 2.2169 - accuracy: 0.2576 - val_loss: 2.2404 - val_accuracy: 0.2518\n",
            "Epoch 58/100\n",
            "1407/1407 [==============================] - 16s 12ms/step - loss: 2.2203 - accuracy: 0.2603 - val_loss: 2.2180 - val_accuracy: 0.2516\n",
            "Epoch 59/100\n",
            "1407/1407 [==============================] - 16s 12ms/step - loss: 2.2170 - accuracy: 0.2596 - val_loss: 2.3258 - val_accuracy: 0.2298\n",
            "Epoch 60/100\n",
            "1407/1407 [==============================] - 17s 12ms/step - loss: 2.2208 - accuracy: 0.2580 - val_loss: 2.1991 - val_accuracy: 0.2634\n",
            "Epoch 61/100\n",
            "1407/1407 [==============================] - 16s 12ms/step - loss: 2.2147 - accuracy: 0.2601 - val_loss: 2.2237 - val_accuracy: 0.2542\n",
            "Epoch 62/100\n",
            "1407/1407 [==============================] - 17s 12ms/step - loss: 2.2199 - accuracy: 0.2583 - val_loss: 2.2388 - val_accuracy: 0.2418\n",
            "Epoch 63/100\n",
            "1407/1407 [==============================] - 17s 12ms/step - loss: 2.2138 - accuracy: 0.2608 - val_loss: 2.2023 - val_accuracy: 0.2636\n",
            "Epoch 64/100\n",
            "1407/1407 [==============================] - 16s 12ms/step - loss: 2.2200 - accuracy: 0.2573 - val_loss: 2.1754 - val_accuracy: 0.2736\n",
            "Epoch 65/100\n",
            "1407/1407 [==============================] - 17s 12ms/step - loss: 2.2101 - accuracy: 0.2625 - val_loss: 2.1922 - val_accuracy: 0.2712\n",
            "Epoch 66/100\n",
            "1407/1407 [==============================] - 17s 12ms/step - loss: 2.2139 - accuracy: 0.2585 - val_loss: 2.1814 - val_accuracy: 0.2764\n",
            "Epoch 67/100\n",
            "1407/1407 [==============================] - 17s 12ms/step - loss: 2.2203 - accuracy: 0.2602 - val_loss: 2.2102 - val_accuracy: 0.2638\n",
            "Epoch 68/100\n",
            "1407/1407 [==============================] - 16s 12ms/step - loss: 2.2196 - accuracy: 0.2600 - val_loss: 2.2363 - val_accuracy: 0.2448\n",
            "Epoch 69/100\n",
            "1407/1407 [==============================] - 17s 12ms/step - loss: 2.2217 - accuracy: 0.2576 - val_loss: 2.2864 - val_accuracy: 0.2424\n",
            "Epoch 70/100\n",
            "1407/1407 [==============================] - 17s 12ms/step - loss: 2.2195 - accuracy: 0.2610 - val_loss: 2.2688 - val_accuracy: 0.2160\n",
            "Epoch 71/100\n",
            "1407/1407 [==============================] - 17s 12ms/step - loss: 2.2176 - accuracy: 0.2630 - val_loss: 2.2096 - val_accuracy: 0.2618\n",
            "Epoch 72/100\n",
            "1407/1407 [==============================] - 17s 12ms/step - loss: 2.2146 - accuracy: 0.2608 - val_loss: 2.2141 - val_accuracy: 0.2552\n",
            "Epoch 73/100\n",
            "1407/1407 [==============================] - 17s 12ms/step - loss: 2.2182 - accuracy: 0.2600 - val_loss: 2.2219 - val_accuracy: 0.2596\n",
            "Epoch 74/100\n",
            "1407/1407 [==============================] - 17s 12ms/step - loss: 2.2170 - accuracy: 0.2617 - val_loss: 2.2740 - val_accuracy: 0.2372\n",
            "Epoch 75/100\n",
            "1407/1407 [==============================] - 17s 12ms/step - loss: 2.2199 - accuracy: 0.2599 - val_loss: 2.1840 - val_accuracy: 0.2760\n",
            "Epoch 76/100\n",
            "1407/1407 [==============================] - 17s 12ms/step - loss: 2.2149 - accuracy: 0.2599 - val_loss: 2.1846 - val_accuracy: 0.2630\n",
            "Epoch 77/100\n",
            "1407/1407 [==============================] - 16s 12ms/step - loss: 2.2184 - accuracy: 0.2605 - val_loss: 2.2076 - val_accuracy: 0.2626\n",
            "Epoch 78/100\n",
            "1407/1407 [==============================] - 16s 12ms/step - loss: 2.2187 - accuracy: 0.2608 - val_loss: 2.1980 - val_accuracy: 0.2674\n",
            "Epoch 79/100\n",
            "1407/1407 [==============================] - 17s 12ms/step - loss: 2.2219 - accuracy: 0.2608 - val_loss: 2.2113 - val_accuracy: 0.2712\n",
            "Epoch 80/100\n",
            "1407/1407 [==============================] - 17s 12ms/step - loss: 2.2204 - accuracy: 0.2587 - val_loss: 2.1921 - val_accuracy: 0.2656\n",
            "Epoch 81/100\n",
            "1407/1407 [==============================] - 17s 12ms/step - loss: 2.2188 - accuracy: 0.2594 - val_loss: 2.1951 - val_accuracy: 0.2708\n",
            "Epoch 82/100\n",
            "1407/1407 [==============================] - 17s 12ms/step - loss: 2.2195 - accuracy: 0.2586 - val_loss: 2.2040 - val_accuracy: 0.2746\n",
            "Epoch 83/100\n",
            "1407/1407 [==============================] - 17s 12ms/step - loss: 2.2144 - accuracy: 0.2594 - val_loss: 2.1814 - val_accuracy: 0.2672\n",
            "Epoch 84/100\n",
            "1407/1407 [==============================] - 17s 12ms/step - loss: 2.2186 - accuracy: 0.2570 - val_loss: 2.2198 - val_accuracy: 0.2688\n",
            "Epoch 85/100\n",
            "1407/1407 [==============================] - 17s 12ms/step - loss: 2.2186 - accuracy: 0.2622 - val_loss: 2.1891 - val_accuracy: 0.2750\n",
            "Epoch 86/100\n",
            "1407/1407 [==============================] - 17s 12ms/step - loss: 2.2205 - accuracy: 0.2620 - val_loss: 2.1857 - val_accuracy: 0.2744\n",
            "Epoch 87/100\n",
            "1407/1407 [==============================] - 17s 12ms/step - loss: 2.2139 - accuracy: 0.2607 - val_loss: 2.2087 - val_accuracy: 0.2592\n",
            "Epoch 88/100\n",
            "1407/1407 [==============================] - 17s 12ms/step - loss: 2.2154 - accuracy: 0.2614 - val_loss: 2.2033 - val_accuracy: 0.2738\n",
            "Epoch 89/100\n",
            "1407/1407 [==============================] - 17s 12ms/step - loss: 2.2161 - accuracy: 0.2612 - val_loss: 2.1841 - val_accuracy: 0.2672\n",
            "Epoch 90/100\n",
            "1407/1407 [==============================] - 17s 12ms/step - loss: 2.2209 - accuracy: 0.2590 - val_loss: 2.1963 - val_accuracy: 0.2638\n",
            "Epoch 91/100\n",
            "1407/1407 [==============================] - 17s 12ms/step - loss: 2.2185 - accuracy: 0.2585 - val_loss: 2.1818 - val_accuracy: 0.2732\n",
            "Epoch 92/100\n",
            "1407/1407 [==============================] - 17s 12ms/step - loss: 2.2207 - accuracy: 0.2572 - val_loss: 2.1822 - val_accuracy: 0.2740\n",
            "Epoch 93/100\n",
            "1407/1407 [==============================] - 17s 12ms/step - loss: 2.2188 - accuracy: 0.2602 - val_loss: 2.1869 - val_accuracy: 0.2724\n",
            "Epoch 94/100\n",
            "1407/1407 [==============================] - 17s 12ms/step - loss: 2.2186 - accuracy: 0.2613 - val_loss: 2.2013 - val_accuracy: 0.2626\n",
            "Epoch 95/100\n",
            "1407/1407 [==============================] - 17s 12ms/step - loss: 2.2220 - accuracy: 0.2611 - val_loss: 2.1872 - val_accuracy: 0.2770\n",
            "Epoch 96/100\n",
            "1407/1407 [==============================] - 16s 12ms/step - loss: 2.2191 - accuracy: 0.2607 - val_loss: 2.1818 - val_accuracy: 0.2732\n",
            "Epoch 97/100\n",
            "1407/1407 [==============================] - 16s 12ms/step - loss: 2.2215 - accuracy: 0.2586 - val_loss: 2.2542 - val_accuracy: 0.2402\n",
            "Epoch 98/100\n",
            "1407/1407 [==============================] - 17s 12ms/step - loss: 2.2152 - accuracy: 0.2597 - val_loss: 2.1925 - val_accuracy: 0.2734\n",
            "Epoch 99/100\n",
            "1407/1407 [==============================] - 16s 12ms/step - loss: 2.2117 - accuracy: 0.2609 - val_loss: 2.2069 - val_accuracy: 0.2538\n",
            "Epoch 100/100\n",
            "1407/1407 [==============================] - 16s 12ms/step - loss: 2.2196 - accuracy: 0.2581 - val_loss: 2.2242 - val_accuracy: 0.2634\n"
          ]
        }
      ]
    },
    {
      "cell_type": "code",
      "source": [
        "test_loss, test_accuracy = cifar10_model2.evaluate(X_test, y_test)"
      ],
      "metadata": {
        "colab": {
          "base_uri": "https://localhost:8080/"
        },
        "id": "AIfRGmN3Pi13",
        "outputId": "cbb90aa7-1934-4ce9-b848-7ddedc016a73"
      },
      "execution_count": 18,
      "outputs": [
        {
          "output_type": "stream",
          "name": "stdout",
          "text": [
            "313/313 [==============================] - 1s 4ms/step - loss: 2.2219 - accuracy: 0.2615\n"
          ]
        }
      ]
    },
    {
      "cell_type": "code",
      "source": [
        "print(\"Test accuracy: {}\".format(test_accuracy))\n",
        "print(\"\")\n",
        "print(\"Test loss: {}\".format(test_loss))\n"
      ],
      "metadata": {
        "colab": {
          "base_uri": "https://localhost:8080/"
        },
        "id": "nCq8nG8igJI4",
        "outputId": "1ee40eb7-b358-43b9-b597-985ec38266c1"
      },
      "execution_count": 19,
      "outputs": [
        {
          "output_type": "stream",
          "name": "stdout",
          "text": [
            "Test accuracy: 0.2615000009536743\n",
            "\n",
            "Test loss: 2.2218711376190186\n"
          ]
        }
      ]
    },
    {
      "cell_type": "code",
      "source": [
        "# Plot history for the model's accuracy\n",
        "plt.plot(history2.history['accuracy'])\n",
        "plt.plot(history2.history['val_accuracy'])\n",
        "plt.title('Model Accuracy')\n",
        "plt.ylabel('Accuracy')\n",
        "plt.xlabel('Epochs')\n",
        "plt.legend(['train', 'test'], loc='upper left')\n",
        "plt.show()"
      ],
      "metadata": {
        "colab": {
          "base_uri": "https://localhost:8080/",
          "height": 295
        },
        "id": "oCkkaTPCPqLp",
        "outputId": "6274975f-14ff-4138-8e7d-933f324f6db6"
      },
      "execution_count": 20,
      "outputs": [
        {
          "output_type": "display_data",
          "data": {
            "text/plain": [
              "<Figure size 432x288 with 1 Axes>"
            ],
            "image/png": "[encoded data removed]"
          },
          "metadata": {
            "needs_background": "light"
          }
        }
      ]
    },
    {
      "cell_type": "code",
      "source": [
        "# Plot history for the model's loss\n",
        "plt.plot(history2.history['loss'])\n",
        "plt.plot(history2.history['val_loss'])\n",
        "plt.title('Model Loss')\n",
        "plt.ylabel('Loss')\n",
        "plt.xlabel('Epochs')\n",
        "plt.legend(['train', 'test'], loc='upper right')\n",
        "plt.show()"
      ],
      "metadata": {
        "colab": {
          "base_uri": "https://localhost:8080/",
          "height": 295
        },
        "id": "Ho2YjL6nPrGy",
        "outputId": "d94c9475-81c5-4c3b-e841-2f996a5a7d06"
      },
      "execution_count": 21,
      "outputs": [
        {
          "output_type": "display_data",
          "data": {
            "text/plain": [
              "<Figure size 432x288 with 1 Axes>"
            ],
            "image/png": "[encoded data removed]"
          },
          "metadata": {
            "needs_background": "light"
          }
        }
      ]
    },
    {
      "cell_type": "markdown",
      "source": [
        "To reduce overfitting, Layer 2 regularization has been applied. The reduction of the overfitting, as can be observed in the graph, worked out. The However, the l2 regularization has decreased the models accuracy to 26.15%. Adjustments necessary. "
      ],
      "metadata": {
        "id": "F7ghKSwwoqkj"
      }
    },
    {
      "cell_type": "markdown",
      "metadata": {
        "id": "EkI2A9mKlG3X"
      },
      "source": [
        "### Question 2.3 (10 points)\n",
        "\n",
        "Now try adding Batch Normalization and compare the learning curves: Is it converging faster than before? Does it produce a better model? How does it affect training speed?"
      ]
    },
    {
      "cell_type": "code",
      "execution_count": 82,
      "metadata": {
        "id": "XYgkw4ESlG3X"
      },
      "outputs": [],
      "source": [
        "keras.backend.clear_session()\n",
        "from tensorflow.keras import regularizers\n",
        "\n",
        "cifar10_model3 = tf.keras.models.Sequential()"
      ]
    },
    {
      "cell_type": "code",
      "source": [
        "# Input layer\n",
        "cifar10_model3.add(keras.layers.Flatten(input_shape=[32, 32, 3]))\n",
        "cifar10_model3.add(keras.layers.BatchNormalization())\n",
        "\n",
        "# Create 20 hidden layers\n",
        "for n_hidden in range(19):\n",
        "    cifar10_model3.add(keras.layers.Dense(100, activation=\"relu\",\n",
        "                                          kernel_initializer=\"he_normal\",\n",
        "                                          kernel_regularizer=keras.regularizers.l2(0.01)))\n",
        "    cifar10_model3.add(keras.layers.BatchNormalization())\n",
        "\n",
        "# Output layer: SOFTMAX activation as it gives the probabilities of each class\n",
        "cifar10_model3.add(keras.layers.Dense(10, activation=\"softmax\",\n",
        "                       kernel_regularizer=keras.regularizers.l2(0.01)))"
      ],
      "metadata": {
        "id": "IzHC-iZLqKDR"
      },
      "execution_count": 83,
      "outputs": []
    },
    {
      "cell_type": "code",
      "source": [
        "# Check the four parameters per input of our BN\n",
        "bn1 = cifar10_model3.layers[1]\n",
        "[(var.name, var.trainable) for var in bn1.variables]"
      ],
      "metadata": {
        "colab": {
          "base_uri": "https://localhost:8080/"
        },
        "id": "QhTLu3N6rqk6",
        "outputId": "b12475e8-d5b0-448a-e301-90c2a793dc54"
      },
      "execution_count": 84,
      "outputs": [
        {
          "output_type": "execute_result",
          "data": {
            "text/plain": [
              "[('batch_normalization/gamma:0', True),\n",
              " ('batch_normalization/beta:0', True),\n",
              " ('batch_normalization/moving_mean:0', False),\n",
              " ('batch_normalization/moving_variance:0', False)]"
            ]
          },
          "metadata": {},
          "execution_count": 84
        }
      ]
    },
    {
      "cell_type": "code",
      "source": [
        "# Update the moving averages\n",
        "bn1.updates"
      ],
      "metadata": {
        "colab": {
          "base_uri": "https://localhost:8080/"
        },
        "id": "akwOj6JurwB0",
        "outputId": "c1f9248d-2cf5-4415-f8bc-dc098f2b228f"
      },
      "execution_count": 85,
      "outputs": [
        {
          "output_type": "stream",
          "name": "stderr",
          "text": [
            "/usr/local/lib/python3.7/dist-packages/ipykernel_launcher.py:2: UserWarning: `layer.updates` will be removed in a future version. This property should not be used in TensorFlow 2.0, as `updates` are applied automatically.\n",
            "  \n"
          ]
        },
        {
          "output_type": "execute_result",
          "data": {
            "text/plain": [
              "[]"
            ]
          },
          "metadata": {},
          "execution_count": 85
        }
      ]
    },
    {
      "cell_type": "code",
      "source": [
        "# Compile and train the model\n",
        "cifar10_model3.compile(loss=\"sparse_categorical_crossentropy\", \n",
        "                      optimizer=\"adam\", \n",
        "                      metrics=[\"accuracy\"])\n",
        "n_epochs = 100\n",
        "history3 = cifar10_model3.fit(X_train, y_train, epochs=n_epochs,\n",
        "                    validation_data=(X_valid, y_valid))"
      ],
      "metadata": {
        "colab": {
          "base_uri": "https://localhost:8080/"
        },
        "id": "XrQLCV7erjqB",
        "outputId": "d57868f4-d622-4e68-a998-c1631724e3c5"
      },
      "execution_count": 86,
      "outputs": [
        {
          "output_type": "stream",
          "name": "stdout",
          "text": [
            "Epoch 1/100\n",
            "1407/1407 [==============================] - 40s 23ms/step - loss: 27.4374 - accuracy: 0.1941 - val_loss: 16.3289 - val_accuracy: 0.2614\n",
            "Epoch 2/100\n",
            "1407/1407 [==============================] - 32s 23ms/step - loss: 10.4989 - accuracy: 0.2669 - val_loss: 6.2847 - val_accuracy: 0.2634\n",
            "Epoch 3/100\n",
            "1407/1407 [==============================] - 32s 23ms/step - loss: 4.3022 - accuracy: 0.2616 - val_loss: 3.0188 - val_accuracy: 0.2248\n",
            "Epoch 4/100\n",
            "1407/1407 [==============================] - 31s 22ms/step - loss: 2.8214 - accuracy: 0.1839 - val_loss: 2.6504 - val_accuracy: 0.1146\n",
            "Epoch 5/100\n",
            "1407/1407 [==============================] - 32s 23ms/step - loss: 2.4110 - accuracy: 0.1862 - val_loss: 2.5022 - val_accuracy: 0.1304\n",
            "Epoch 6/100\n",
            "1407/1407 [==============================] - 32s 22ms/step - loss: 2.6475 - accuracy: 0.1637 - val_loss: 2.7613 - val_accuracy: 0.0992\n",
            "Epoch 7/100\n",
            "1407/1407 [==============================] - 32s 23ms/step - loss: 2.3844 - accuracy: 0.1846 - val_loss: 2.5137 - val_accuracy: 0.0976\n",
            "Epoch 8/100\n",
            "1407/1407 [==============================] - 31s 22ms/step - loss: 2.5583 - accuracy: 0.1637 - val_loss: 2.6163 - val_accuracy: 0.1152\n",
            "Epoch 9/100\n",
            "1407/1407 [==============================] - 32s 22ms/step - loss: 2.3994 - accuracy: 0.1791 - val_loss: 3.1769 - val_accuracy: 0.0960\n",
            "Epoch 10/100\n",
            "1407/1407 [==============================] - 31s 22ms/step - loss: 2.4617 - accuracy: 0.1774 - val_loss: 2.9135 - val_accuracy: 0.1080\n",
            "Epoch 11/100\n",
            "1407/1407 [==============================] - 32s 23ms/step - loss: 2.3833 - accuracy: 0.1854 - val_loss: 4.8534 - val_accuracy: 0.1728\n",
            "Epoch 12/100\n",
            "1407/1407 [==============================] - 32s 23ms/step - loss: 2.2819 - accuracy: 0.1986 - val_loss: 2.3567 - val_accuracy: 0.1906\n",
            "Epoch 13/100\n",
            "1407/1407 [==============================] - 32s 23ms/step - loss: 2.2589 - accuracy: 0.2044 - val_loss: 2.4592 - val_accuracy: 0.0972\n",
            "Epoch 14/100\n",
            "1407/1407 [==============================] - 32s 23ms/step - loss: 2.2844 - accuracy: 0.2010 - val_loss: 2.4939 - val_accuracy: 0.0976\n",
            "Epoch 15/100\n",
            "1407/1407 [==============================] - 31s 22ms/step - loss: 2.2280 - accuracy: 0.2083 - val_loss: 2.5894 - val_accuracy: 0.0976\n",
            "Epoch 16/100\n",
            "1407/1407 [==============================] - 32s 23ms/step - loss: 2.2819 - accuracy: 0.2049 - val_loss: 2.3474 - val_accuracy: 0.1412\n",
            "Epoch 17/100\n",
            "1407/1407 [==============================] - 33s 23ms/step - loss: 2.2473 - accuracy: 0.2038 - val_loss: 2.9244 - val_accuracy: 0.1438\n",
            "Epoch 18/100\n",
            "1407/1407 [==============================] - 32s 23ms/step - loss: 2.2752 - accuracy: 0.2073 - val_loss: 2.5142 - val_accuracy: 0.0976\n",
            "Epoch 19/100\n",
            "1407/1407 [==============================] - 33s 23ms/step - loss: 2.1590 - accuracy: 0.2237 - val_loss: 2.4003 - val_accuracy: 0.1478\n",
            "Epoch 20/100\n",
            "1407/1407 [==============================] - 30s 21ms/step - loss: 2.1678 - accuracy: 0.2198 - val_loss: 2.5105 - val_accuracy: 0.0972\n",
            "Epoch 21/100\n",
            "1407/1407 [==============================] - 30s 22ms/step - loss: 2.1678 - accuracy: 0.2153 - val_loss: 2.6403 - val_accuracy: 0.1068\n",
            "Epoch 22/100\n",
            "1407/1407 [==============================] - 32s 23ms/step - loss: 2.1785 - accuracy: 0.2200 - val_loss: 2.6658 - val_accuracy: 0.1038\n",
            "Epoch 23/100\n",
            "1407/1407 [==============================] - 32s 22ms/step - loss: 2.1031 - accuracy: 0.2282 - val_loss: 2.6228 - val_accuracy: 0.0972\n",
            "Epoch 24/100\n",
            "1407/1407 [==============================] - 33s 23ms/step - loss: 2.1132 - accuracy: 0.2280 - val_loss: 2.7618 - val_accuracy: 0.1038\n",
            "Epoch 25/100\n",
            "1407/1407 [==============================] - 31s 22ms/step - loss: 2.0748 - accuracy: 0.2363 - val_loss: 2.3799 - val_accuracy: 0.1478\n",
            "Epoch 26/100\n",
            "1407/1407 [==============================] - 33s 23ms/step - loss: 2.1320 - accuracy: 0.2327 - val_loss: 2.5212 - val_accuracy: 0.1138\n",
            "Epoch 27/100\n",
            "1407/1407 [==============================] - 32s 23ms/step - loss: 2.1017 - accuracy: 0.2357 - val_loss: 2.3964 - val_accuracy: 0.2170\n",
            "Epoch 28/100\n",
            "1407/1407 [==============================] - 32s 23ms/step - loss: 2.0632 - accuracy: 0.2423 - val_loss: 2.2853 - val_accuracy: 0.1328\n",
            "Epoch 29/100\n",
            "1407/1407 [==============================] - 32s 23ms/step - loss: 2.0614 - accuracy: 0.2379 - val_loss: 2.5257 - val_accuracy: 0.1384\n",
            "Epoch 30/100\n",
            "1407/1407 [==============================] - 32s 23ms/step - loss: 2.0939 - accuracy: 0.2378 - val_loss: 2.7046 - val_accuracy: 0.1498\n",
            "Epoch 31/100\n",
            "1407/1407 [==============================] - 32s 23ms/step - loss: 2.0852 - accuracy: 0.2391 - val_loss: 2.3706 - val_accuracy: 0.1360\n",
            "Epoch 32/100\n",
            "1407/1407 [==============================] - 32s 23ms/step - loss: 2.0493 - accuracy: 0.2497 - val_loss: 2.8251 - val_accuracy: 0.1100\n",
            "Epoch 33/100\n",
            "1407/1407 [==============================] - 32s 23ms/step - loss: 2.0477 - accuracy: 0.2501 - val_loss: 2.6863 - val_accuracy: 0.1044\n",
            "Epoch 34/100\n",
            "1407/1407 [==============================] - 31s 22ms/step - loss: 2.0419 - accuracy: 0.2540 - val_loss: 2.3730 - val_accuracy: 0.1200\n",
            "Epoch 35/100\n",
            "1407/1407 [==============================] - 31s 22ms/step - loss: 2.0579 - accuracy: 0.2434 - val_loss: 9.7711 - val_accuracy: 0.1610\n",
            "Epoch 36/100\n",
            "1407/1407 [==============================] - 31s 22ms/step - loss: 2.0519 - accuracy: 0.2439 - val_loss: 2.6285 - val_accuracy: 0.1166\n",
            "Epoch 37/100\n",
            "1407/1407 [==============================] - 32s 22ms/step - loss: 2.0488 - accuracy: 0.2514 - val_loss: 4.1269 - val_accuracy: 0.1216\n",
            "Epoch 38/100\n",
            "1407/1407 [==============================] - 32s 23ms/step - loss: 2.0491 - accuracy: 0.2540 - val_loss: 2.3554 - val_accuracy: 0.1110\n",
            "Epoch 39/100\n",
            "1407/1407 [==============================] - 32s 23ms/step - loss: 2.0312 - accuracy: 0.2564 - val_loss: 14.2238 - val_accuracy: 0.1498\n",
            "Epoch 40/100\n",
            "1407/1407 [==============================] - 32s 23ms/step - loss: 2.0271 - accuracy: 0.2594 - val_loss: 5.4397 - val_accuracy: 0.1404\n",
            "Epoch 41/100\n",
            "1407/1407 [==============================] - 33s 24ms/step - loss: 2.0218 - accuracy: 0.2587 - val_loss: 2.5428 - val_accuracy: 0.0972\n",
            "Epoch 42/100\n",
            "1407/1407 [==============================] - 32s 23ms/step - loss: 2.0361 - accuracy: 0.2548 - val_loss: 2.7566 - val_accuracy: 0.0976\n",
            "Epoch 43/100\n",
            "1407/1407 [==============================] - 32s 23ms/step - loss: 2.0382 - accuracy: 0.2557 - val_loss: 2.5054 - val_accuracy: 0.1112\n",
            "Epoch 44/100\n",
            "1407/1407 [==============================] - 32s 23ms/step - loss: 2.0352 - accuracy: 0.2544 - val_loss: 2.3396 - val_accuracy: 0.0970\n",
            "Epoch 45/100\n",
            "1407/1407 [==============================] - 32s 23ms/step - loss: 2.0338 - accuracy: 0.2541 - val_loss: 2.1900 - val_accuracy: 0.1892\n",
            "Epoch 46/100\n",
            "1407/1407 [==============================] - 32s 23ms/step - loss: 2.0253 - accuracy: 0.2583 - val_loss: 2.7116 - val_accuracy: 0.0976\n",
            "Epoch 47/100\n",
            "1407/1407 [==============================] - 32s 23ms/step - loss: 2.0252 - accuracy: 0.2599 - val_loss: 2.5941 - val_accuracy: 0.0976\n",
            "Epoch 48/100\n",
            "1407/1407 [==============================] - 32s 23ms/step - loss: 2.0370 - accuracy: 0.2591 - val_loss: 2.2349 - val_accuracy: 0.1612\n",
            "Epoch 49/100\n",
            "1407/1407 [==============================] - 32s 23ms/step - loss: 2.0193 - accuracy: 0.2604 - val_loss: 17.9390 - val_accuracy: 0.0462\n",
            "Epoch 50/100\n",
            "1407/1407 [==============================] - 33s 24ms/step - loss: 2.0244 - accuracy: 0.2619 - val_loss: 2.1746 - val_accuracy: 0.1996\n",
            "Epoch 51/100\n",
            "1407/1407 [==============================] - 33s 23ms/step - loss: 2.0132 - accuracy: 0.2642 - val_loss: 2.3934 - val_accuracy: 0.0972\n",
            "Epoch 52/100\n",
            "1407/1407 [==============================] - 33s 23ms/step - loss: 2.0315 - accuracy: 0.2571 - val_loss: 2.3696 - val_accuracy: 0.0974\n",
            "Epoch 53/100\n",
            "1407/1407 [==============================] - 32s 23ms/step - loss: 1.9977 - accuracy: 0.2688 - val_loss: 2.2321 - val_accuracy: 0.2246\n",
            "Epoch 54/100\n",
            "1407/1407 [==============================] - 32s 23ms/step - loss: 2.0636 - accuracy: 0.2582 - val_loss: 2.3082 - val_accuracy: 0.1046\n",
            "Epoch 55/100\n",
            "1407/1407 [==============================] - 32s 23ms/step - loss: 2.0505 - accuracy: 0.2589 - val_loss: 2.3860 - val_accuracy: 0.1478\n",
            "Epoch 56/100\n",
            "1407/1407 [==============================] - 33s 23ms/step - loss: 2.0361 - accuracy: 0.2613 - val_loss: 2.3145 - val_accuracy: 0.1294\n",
            "Epoch 57/100\n",
            "1407/1407 [==============================] - 32s 22ms/step - loss: 2.0040 - accuracy: 0.2686 - val_loss: 2.4667 - val_accuracy: 0.1124\n",
            "Epoch 58/100\n",
            "1407/1407 [==============================] - 37s 27ms/step - loss: 2.0251 - accuracy: 0.2594 - val_loss: 2.4579 - val_accuracy: 0.1052\n",
            "Epoch 59/100\n",
            "1407/1407 [==============================] - 37s 27ms/step - loss: 2.0242 - accuracy: 0.2585 - val_loss: 60.3132 - val_accuracy: 0.1754\n",
            "Epoch 60/100\n",
            "1407/1407 [==============================] - 32s 23ms/step - loss: 2.0197 - accuracy: 0.2624 - val_loss: 2.2648 - val_accuracy: 0.1572\n",
            "Epoch 61/100\n",
            "1407/1407 [==============================] - 32s 23ms/step - loss: 2.0117 - accuracy: 0.2650 - val_loss: 2.4123 - val_accuracy: 0.0998\n",
            "Epoch 62/100\n",
            "1407/1407 [==============================] - 30s 21ms/step - loss: 2.0133 - accuracy: 0.2659 - val_loss: 2.3188 - val_accuracy: 0.1074\n",
            "Epoch 63/100\n",
            "1407/1407 [==============================] - 32s 22ms/step - loss: 2.0716 - accuracy: 0.2511 - val_loss: 2.1858 - val_accuracy: 0.1930\n",
            "Epoch 64/100\n",
            "1407/1407 [==============================] - 29s 21ms/step - loss: 2.0525 - accuracy: 0.2554 - val_loss: 2.1656 - val_accuracy: 0.2014\n",
            "Epoch 65/100\n",
            "1407/1407 [==============================] - 33s 23ms/step - loss: 2.0236 - accuracy: 0.2624 - val_loss: 2.3238 - val_accuracy: 0.1574\n",
            "Epoch 66/100\n",
            "1407/1407 [==============================] - 32s 23ms/step - loss: 2.0083 - accuracy: 0.2642 - val_loss: 2.4382 - val_accuracy: 0.1304\n",
            "Epoch 67/100\n",
            "1407/1407 [==============================] - 32s 22ms/step - loss: 2.0165 - accuracy: 0.2640 - val_loss: 2.3132 - val_accuracy: 0.1506\n",
            "Epoch 68/100\n",
            "1407/1407 [==============================] - 32s 23ms/step - loss: 2.0566 - accuracy: 0.2543 - val_loss: 2.2656 - val_accuracy: 0.1628\n",
            "Epoch 69/100\n",
            "1407/1407 [==============================] - 31s 22ms/step - loss: 2.0104 - accuracy: 0.2634 - val_loss: 2.5075 - val_accuracy: 0.0972\n",
            "Epoch 70/100\n",
            "1407/1407 [==============================] - 32s 23ms/step - loss: 2.0298 - accuracy: 0.2574 - val_loss: 2.2894 - val_accuracy: 0.2044\n",
            "Epoch 71/100\n",
            "1407/1407 [==============================] - 31s 22ms/step - loss: 2.0127 - accuracy: 0.2627 - val_loss: 2.4606 - val_accuracy: 0.0972\n",
            "Epoch 72/100\n",
            "1407/1407 [==============================] - 32s 23ms/step - loss: 2.0043 - accuracy: 0.2628 - val_loss: 2.2670 - val_accuracy: 0.1484\n",
            "Epoch 73/100\n",
            "1407/1407 [==============================] - 31s 22ms/step - loss: 2.0186 - accuracy: 0.2588 - val_loss: 2.0910 - val_accuracy: 0.2312\n",
            "Epoch 74/100\n",
            "1407/1407 [==============================] - 32s 23ms/step - loss: 2.0236 - accuracy: 0.2590 - val_loss: 2.2531 - val_accuracy: 0.1486\n",
            "Epoch 75/100\n",
            "1407/1407 [==============================] - 32s 23ms/step - loss: 2.0055 - accuracy: 0.2610 - val_loss: 2.3939 - val_accuracy: 0.0972\n",
            "Epoch 76/100\n",
            "1407/1407 [==============================] - 31s 22ms/step - loss: 2.0462 - accuracy: 0.2475 - val_loss: 2.3147 - val_accuracy: 0.1560\n",
            "Epoch 77/100\n",
            "1407/1407 [==============================] - 32s 23ms/step - loss: 2.0127 - accuracy: 0.2587 - val_loss: 2.3364 - val_accuracy: 0.1544\n",
            "Epoch 78/100\n",
            "1407/1407 [==============================] - 32s 23ms/step - loss: 2.0120 - accuracy: 0.2613 - val_loss: 2.3405 - val_accuracy: 0.1406\n",
            "Epoch 79/100\n",
            "1407/1407 [==============================] - 31s 22ms/step - loss: 2.0112 - accuracy: 0.2609 - val_loss: 12.7482 - val_accuracy: 0.1804\n",
            "Epoch 80/100\n",
            "1407/1407 [==============================] - 31s 22ms/step - loss: 2.0070 - accuracy: 0.2631 - val_loss: 2.1590 - val_accuracy: 0.1928\n",
            "Epoch 81/100\n",
            "1407/1407 [==============================] - 31s 22ms/step - loss: 2.0158 - accuracy: 0.2642 - val_loss: 2.0015 - val_accuracy: 0.2620\n",
            "Epoch 82/100\n",
            "1407/1407 [==============================] - 31s 22ms/step - loss: 2.0247 - accuracy: 0.2551 - val_loss: 2.9779 - val_accuracy: 0.1056\n",
            "Epoch 83/100\n",
            "1407/1407 [==============================] - 32s 23ms/step - loss: 2.0085 - accuracy: 0.2604 - val_loss: 2.2578 - val_accuracy: 0.1496\n",
            "Epoch 84/100\n",
            "1407/1407 [==============================] - 32s 23ms/step - loss: 1.9999 - accuracy: 0.2628 - val_loss: 2.2709 - val_accuracy: 0.1510\n",
            "Epoch 85/100\n",
            "1407/1407 [==============================] - 31s 22ms/step - loss: 2.0023 - accuracy: 0.2635 - val_loss: 2.5595 - val_accuracy: 0.1334\n",
            "Epoch 86/100\n",
            "1407/1407 [==============================] - 32s 23ms/step - loss: 1.9972 - accuracy: 0.2668 - val_loss: 3.2558 - val_accuracy: 0.1192\n",
            "Epoch 87/100\n",
            "1407/1407 [==============================] - 32s 23ms/step - loss: 2.0185 - accuracy: 0.2606 - val_loss: 2.2602 - val_accuracy: 0.1538\n",
            "Epoch 88/100\n",
            "1407/1407 [==============================] - 32s 23ms/step - loss: 2.0203 - accuracy: 0.2578 - val_loss: 2.2399 - val_accuracy: 0.1566\n",
            "Epoch 89/100\n",
            "1407/1407 [==============================] - 32s 23ms/step - loss: 2.0270 - accuracy: 0.2609 - val_loss: 2.4101 - val_accuracy: 0.0996\n",
            "Epoch 90/100\n",
            "1407/1407 [==============================] - 31s 22ms/step - loss: 2.0075 - accuracy: 0.2649 - val_loss: 2.2770 - val_accuracy: 0.1470\n",
            "Epoch 91/100\n",
            "1407/1407 [==============================] - 31s 22ms/step - loss: 1.9996 - accuracy: 0.2622 - val_loss: 2.4023 - val_accuracy: 0.0972\n",
            "Epoch 92/100\n",
            "1407/1407 [==============================] - 31s 22ms/step - loss: 2.0142 - accuracy: 0.2633 - val_loss: 2.2842 - val_accuracy: 0.1484\n",
            "Epoch 93/100\n",
            "1407/1407 [==============================] - 32s 23ms/step - loss: 1.9995 - accuracy: 0.2625 - val_loss: 2.1738 - val_accuracy: 0.1734\n",
            "Epoch 94/100\n",
            "1407/1407 [==============================] - 31s 22ms/step - loss: 2.0064 - accuracy: 0.2589 - val_loss: 1108.6511 - val_accuracy: 0.1040\n",
            "Epoch 95/100\n",
            "1407/1407 [==============================] - 32s 23ms/step - loss: 2.0047 - accuracy: 0.2603 - val_loss: 2.2483 - val_accuracy: 0.1572\n",
            "Epoch 96/100\n",
            "1407/1407 [==============================] - 33s 23ms/step - loss: 1.9933 - accuracy: 0.2595 - val_loss: 2.2505 - val_accuracy: 0.1612\n",
            "Epoch 97/100\n",
            "1407/1407 [==============================] - 32s 22ms/step - loss: 2.0296 - accuracy: 0.2594 - val_loss: 2.2788 - val_accuracy: 0.1502\n",
            "Epoch 98/100\n",
            "1407/1407 [==============================] - 32s 23ms/step - loss: 2.0070 - accuracy: 0.2620 - val_loss: 2.5875 - val_accuracy: 0.0514\n",
            "Epoch 99/100\n",
            "1407/1407 [==============================] - 30s 21ms/step - loss: 1.9896 - accuracy: 0.2674 - val_loss: 2.2894 - val_accuracy: 0.1504\n",
            "Epoch 100/100\n",
            "1407/1407 [==============================] - 30s 22ms/step - loss: 1.9964 - accuracy: 0.2679 - val_loss: 2.2610 - val_accuracy: 0.1634\n"
          ]
        }
      ]
    },
    {
      "cell_type": "code",
      "source": [
        "test_loss, test_accuracy = cifar10_model3.evaluate(X_test, y_test)"
      ],
      "metadata": {
        "colab": {
          "base_uri": "https://localhost:8080/"
        },
        "id": "VR_iM1-ysCuP",
        "outputId": "3dcce30b-16cd-4a50-87fc-05f8e3daf5c4"
      },
      "execution_count": 87,
      "outputs": [
        {
          "output_type": "stream",
          "name": "stdout",
          "text": [
            "313/313 [==============================] - 2s 6ms/step - loss: 2.2469 - accuracy: 0.1639\n"
          ]
        }
      ]
    },
    {
      "cell_type": "code",
      "source": [
        "print(\"Test accuracy: {}\".format(test_accuracy))\n",
        "print(\"\")\n",
        "print(\"Test loss: {}\".format(test_loss))"
      ],
      "metadata": {
        "colab": {
          "base_uri": "https://localhost:8080/"
        },
        "id": "JJNRPvc7sGxG",
        "outputId": "3d7cc740-3104-484c-f6c6-961c60cc364c"
      },
      "execution_count": 88,
      "outputs": [
        {
          "output_type": "stream",
          "name": "stdout",
          "text": [
            "Test accuracy: 0.1639000028371811\n",
            "\n",
            "Test loss: 2.2468936443328857\n"
          ]
        }
      ]
    },
    {
      "cell_type": "code",
      "source": [
        "# Plot history for the model's accuracy\n",
        "plt.plot(history3.history['accuracy'])\n",
        "plt.plot(history3.history['val_accuracy'])\n",
        "plt.title('Model Accuracy')\n",
        "plt.ylabel('Accuracy')\n",
        "plt.xlabel('Epochs')\n",
        "plt.legend(['train', 'test'], loc='upper left')\n",
        "plt.show()"
      ],
      "metadata": {
        "colab": {
          "base_uri": "https://localhost:8080/",
          "height": 295
        },
        "id": "DCMEvqnJta1_",
        "outputId": "3577f362-f406-4356-cdc3-1d44483fb634"
      },
      "execution_count": 89,
      "outputs": [
        {
          "output_type": "display_data",
          "data": {
            "text/plain": [
              "<Figure size 432x288 with 1 Axes>"
            ],
            "image/png": "[encoded data removed]"
          },
          "metadata": {
            "needs_background": "light"
          }
        }
      ]
    },
    {
      "cell_type": "code",
      "source": [
        "# Plot history for the model's loss\n",
        "plt.plot(history3.history['loss'])\n",
        "plt.plot(history3.history['val_loss'])\n",
        "plt.title('Model Loss')\n",
        "plt.ylabel('Loss')\n",
        "plt.xlabel('Epochs')\n",
        "plt.legend(['train', 'test'], loc='upper right')\n",
        "plt.show()"
      ],
      "metadata": {
        "colab": {
          "base_uri": "https://localhost:8080/",
          "height": 295
        },
        "id": "MvcX9eyeteUZ",
        "outputId": "34faa969-8f9c-4afe-97d6-f877bf31e928"
      },
      "execution_count": 90,
      "outputs": [
        {
          "output_type": "display_data",
          "data": {
            "text/plain": [
              "<Figure size 432x288 with 1 Axes>"
            ],
            "image/png": "[encoded data removed]"
          },
          "metadata": {
            "needs_background": "light"
          }
        }
      ]
    },
    {
      "cell_type": "markdown",
      "source": [
        "Is it converging faster than before? Does it produce a better model? How does it affect training speed?\n",
        "\n",
        "Batch normalization decreases the model accuracy by rougly 10%points. Also, we can observe that the fit of the model is drastically worse. I assume that there is a model parameter falsly set or some mistake in the code. Because of the time the runs of the code takes, a new parameter adjustment couldnt be undertaken."
      ],
      "metadata": {
        "id": "5zH1Nm-J1HKy"
      }
    },
    {
      "cell_type": "markdown",
      "metadata": {
        "id": "AG5N0DhOlG3Y"
      },
      "source": [
        "### Question 2.4 (10 points)\n",
        "\n",
        "Try regularizing the model with dropout. Then, without retraining your model, see if you can achieve better accuracy using different rate of Dropout."
      ]
    },
    {
      "cell_type": "code",
      "execution_count": 91,
      "metadata": {
        "id": "Fa4az_FilG3Y"
      },
      "outputs": [],
      "source": [
        "keras.backend.clear_session()\n",
        "from tensorflow.keras.layers import Dropout\n",
        "\n",
        "cifar10_model4 = tf.keras.models.Sequential()"
      ]
    },
    {
      "cell_type": "code",
      "source": [
        "# Input layer\n",
        "cifar10_model4.add(keras.layers.Flatten(input_shape=[32, 32, 3]))\n",
        "cifar10_model4.add(keras.layers.BatchNormalization())\n",
        "cifar10_model4.add(keras.layers.Dropout(rate=0.1))\n",
        "\n",
        "# Create 20 hidden layers\n",
        "for n_hidden in range(20):\n",
        "    cifar10_model4.add(keras.layers.Dense(100, activation=\"relu\",\n",
        "                                          kernel_initializer=\"he_normal\",\n",
        "                                          kernel_regularizer=keras.regularizers.l2(0.01)))    \n",
        "    cifar10_model4.add(keras.layers.BatchNormalization())\n",
        "\n",
        "cifar10_model4.add(keras.layers.Dropout(rate=0.1))\n",
        "# Output layer: SOFTMAX activation as it gives the probabilities of each class\n",
        "cifar10_model4.add(keras.layers.Dense(10, activation=\"softmax\",\n",
        "                       kernel_regularizer=keras.regularizers.l2(0.01)))"
      ],
      "metadata": {
        "id": "I4TF0bfZxylB"
      },
      "execution_count": 92,
      "outputs": []
    },
    {
      "cell_type": "code",
      "source": [
        "# Compile and train the model\n",
        "cifar10_model4.compile(loss=\"sparse_categorical_crossentropy\", \n",
        "                      optimizer=\"adam\", \n",
        "                      metrics=[\"accuracy\"])\n",
        "n_epochs = 100\n",
        "history4 = cifar10_model4.fit(X_train, y_train, epochs=n_epochs,\n",
        "                    validation_data=(X_valid, y_valid))"
      ],
      "metadata": {
        "colab": {
          "base_uri": "https://localhost:8080/"
        },
        "id": "Q9Li7KFgyI1R",
        "outputId": "751e79a4-e674-445e-d187-04bfba88056d"
      },
      "execution_count": 93,
      "outputs": [
        {
          "output_type": "stream",
          "name": "stdout",
          "text": [
            "Epoch 1/100\n",
            "1407/1407 [==============================] - 39s 23ms/step - loss: 30.4033 - accuracy: 0.1679 - val_loss: 19.7941 - val_accuracy: 0.2094\n",
            "Epoch 2/100\n",
            "1407/1407 [==============================] - 33s 23ms/step - loss: 13.5267 - accuracy: 0.2410 - val_loss: 8.7492 - val_accuracy: 0.2378\n",
            "Epoch 3/100\n",
            "1407/1407 [==============================] - 32s 23ms/step - loss: 5.9581 - accuracy: 0.2446 - val_loss: 4.0903 - val_accuracy: 0.2236\n",
            "Epoch 4/100\n",
            "1407/1407 [==============================] - 33s 24ms/step - loss: 3.2451 - accuracy: 0.1982 - val_loss: 2.7136 - val_accuracy: 0.1408\n",
            "Epoch 5/100\n",
            "1407/1407 [==============================] - 32s 23ms/step - loss: 2.6797 - accuracy: 0.1702 - val_loss: 3.1696 - val_accuracy: 0.1544\n",
            "Epoch 6/100\n",
            "1407/1407 [==============================] - 34s 24ms/step - loss: 2.6001 - accuracy: 0.1584 - val_loss: 2.7387 - val_accuracy: 0.1432\n",
            "Epoch 7/100\n",
            "1407/1407 [==============================] - 34s 24ms/step - loss: 2.4739 - accuracy: 0.1710 - val_loss: 3.3185 - val_accuracy: 0.1504\n",
            "Epoch 8/100\n",
            "1407/1407 [==============================] - 34s 24ms/step - loss: 2.5972 - accuracy: 0.1619 - val_loss: 3.3567 - val_accuracy: 0.1468\n",
            "Epoch 9/100\n",
            "1407/1407 [==============================] - 33s 24ms/step - loss: 2.6382 - accuracy: 0.1622 - val_loss: 2.5103 - val_accuracy: 0.0920\n",
            "Epoch 10/100\n",
            "1407/1407 [==============================] - 34s 24ms/step - loss: 2.5091 - accuracy: 0.1753 - val_loss: 2.5554 - val_accuracy: 0.1220\n",
            "Epoch 11/100\n",
            "1407/1407 [==============================] - 34s 24ms/step - loss: 2.3605 - accuracy: 0.1810 - val_loss: 3.0050 - val_accuracy: 0.0976\n",
            "Epoch 12/100\n",
            "1407/1407 [==============================] - 33s 24ms/step - loss: 2.7433 - accuracy: 0.1510 - val_loss: 2.8267 - val_accuracy: 0.1038\n",
            "Epoch 13/100\n",
            "1407/1407 [==============================] - 33s 24ms/step - loss: 2.2943 - accuracy: 0.1892 - val_loss: 2.4536 - val_accuracy: 0.0920\n",
            "Epoch 14/100\n",
            "1407/1407 [==============================] - 34s 24ms/step - loss: 2.4552 - accuracy: 0.1878 - val_loss: 2.3676 - val_accuracy: 0.1660\n",
            "Epoch 15/100\n",
            "1407/1407 [==============================] - 33s 24ms/step - loss: 2.3446 - accuracy: 0.1964 - val_loss: 2.6610 - val_accuracy: 0.0920\n",
            "Epoch 16/100\n",
            "1407/1407 [==============================] - 34s 24ms/step - loss: 2.3037 - accuracy: 0.2015 - val_loss: 2.4992 - val_accuracy: 0.0996\n",
            "Epoch 17/100\n",
            "1407/1407 [==============================] - 34s 24ms/step - loss: 2.5656 - accuracy: 0.1808 - val_loss: 2.7947 - val_accuracy: 0.1058\n",
            "Epoch 18/100\n",
            "1407/1407 [==============================] - 34s 24ms/step - loss: 2.4209 - accuracy: 0.1803 - val_loss: 2.3785 - val_accuracy: 0.1446\n",
            "Epoch 19/100\n",
            "1407/1407 [==============================] - 34s 24ms/step - loss: 2.3903 - accuracy: 0.1873 - val_loss: 2.4979 - val_accuracy: 0.0972\n",
            "Epoch 20/100\n",
            "1407/1407 [==============================] - 33s 24ms/step - loss: 2.4102 - accuracy: 0.1894 - val_loss: 3.2247 - val_accuracy: 0.0996\n",
            "Epoch 21/100\n",
            "1407/1407 [==============================] - 34s 24ms/step - loss: 2.5614 - accuracy: 0.1743 - val_loss: 2.3166 - val_accuracy: 0.1946\n",
            "Epoch 22/100\n",
            "1407/1407 [==============================] - 34s 24ms/step - loss: 2.2066 - accuracy: 0.2125 - val_loss: 2.5120 - val_accuracy: 0.0972\n",
            "Epoch 23/100\n",
            "1407/1407 [==============================] - 34s 24ms/step - loss: 2.2101 - accuracy: 0.2179 - val_loss: 2.2302 - val_accuracy: 0.1764\n",
            "Epoch 24/100\n",
            "1407/1407 [==============================] - 33s 24ms/step - loss: 2.2444 - accuracy: 0.2108 - val_loss: 2.5419 - val_accuracy: 0.1438\n",
            "Epoch 25/100\n",
            "1407/1407 [==============================] - 33s 24ms/step - loss: 2.2378 - accuracy: 0.2140 - val_loss: 2.5229 - val_accuracy: 0.0972\n",
            "Epoch 26/100\n",
            "1407/1407 [==============================] - 33s 23ms/step - loss: 2.1611 - accuracy: 0.2186 - val_loss: 2.5403 - val_accuracy: 0.1030\n",
            "Epoch 27/100\n",
            "1407/1407 [==============================] - 33s 24ms/step - loss: 2.1669 - accuracy: 0.2200 - val_loss: 2.5436 - val_accuracy: 0.1198\n",
            "Epoch 28/100\n",
            "1407/1407 [==============================] - 33s 24ms/step - loss: 2.1802 - accuracy: 0.2234 - val_loss: 2.3893 - val_accuracy: 0.1820\n",
            "Epoch 29/100\n",
            "1407/1407 [==============================] - 34s 24ms/step - loss: 2.1311 - accuracy: 0.2244 - val_loss: 2.6039 - val_accuracy: 0.1032\n",
            "Epoch 30/100\n",
            "1407/1407 [==============================] - 34s 24ms/step - loss: 2.1123 - accuracy: 0.2277 - val_loss: 2.6579 - val_accuracy: 0.1242\n",
            "Epoch 31/100\n",
            "1407/1407 [==============================] - 36s 25ms/step - loss: 2.1031 - accuracy: 0.2299 - val_loss: 2.8139 - val_accuracy: 0.1182\n",
            "Epoch 32/100\n",
            "1407/1407 [==============================] - 35s 25ms/step - loss: 2.0840 - accuracy: 0.2368 - val_loss: 2.5850 - val_accuracy: 0.0976\n",
            "Epoch 33/100\n",
            "1407/1407 [==============================] - 33s 24ms/step - loss: 2.0923 - accuracy: 0.2333 - val_loss: 2.2816 - val_accuracy: 0.1624\n",
            "Epoch 34/100\n",
            "1407/1407 [==============================] - 34s 24ms/step - loss: 2.0625 - accuracy: 0.2400 - val_loss: 2.3139 - val_accuracy: 0.1400\n",
            "Epoch 35/100\n",
            "1407/1407 [==============================] - 34s 24ms/step - loss: 2.0835 - accuracy: 0.2402 - val_loss: 2.9114 - val_accuracy: 0.1008\n",
            "Epoch 36/100\n",
            "1407/1407 [==============================] - 34s 24ms/step - loss: 2.0775 - accuracy: 0.2362 - val_loss: 2.8381 - val_accuracy: 0.1496\n",
            "Epoch 37/100\n",
            "1407/1407 [==============================] - 34s 24ms/step - loss: 2.0496 - accuracy: 0.2469 - val_loss: 2.6554 - val_accuracy: 0.1170\n",
            "Epoch 38/100\n",
            "1407/1407 [==============================] - 33s 24ms/step - loss: 2.0835 - accuracy: 0.2440 - val_loss: 2.7167 - val_accuracy: 0.0972\n",
            "Epoch 39/100\n",
            "1407/1407 [==============================] - 33s 24ms/step - loss: 2.0650 - accuracy: 0.2434 - val_loss: 2.4538 - val_accuracy: 0.1268\n",
            "Epoch 40/100\n",
            "1407/1407 [==============================] - 34s 24ms/step - loss: 2.0661 - accuracy: 0.2462 - val_loss: 2.5338 - val_accuracy: 0.1096\n",
            "Epoch 41/100\n",
            "1407/1407 [==============================] - 36s 25ms/step - loss: 2.0562 - accuracy: 0.2431 - val_loss: 19.5072 - val_accuracy: 0.1594\n",
            "Epoch 42/100\n",
            "1407/1407 [==============================] - 34s 24ms/step - loss: 2.1017 - accuracy: 0.2380 - val_loss: 2.9448 - val_accuracy: 0.1136\n",
            "Epoch 43/100\n",
            "1407/1407 [==============================] - 34s 24ms/step - loss: 2.0551 - accuracy: 0.2475 - val_loss: 2.9107 - val_accuracy: 0.1040\n",
            "Epoch 44/100\n",
            "1407/1407 [==============================] - 32s 23ms/step - loss: 2.0716 - accuracy: 0.2427 - val_loss: 3.5476 - val_accuracy: 0.1002\n",
            "Epoch 45/100\n",
            "1407/1407 [==============================] - 32s 23ms/step - loss: 2.0482 - accuracy: 0.2477 - val_loss: 5.1005 - val_accuracy: 0.1320\n",
            "Epoch 46/100\n",
            "1407/1407 [==============================] - 31s 22ms/step - loss: 2.0565 - accuracy: 0.2496 - val_loss: 2.4661 - val_accuracy: 0.1024\n",
            "Epoch 47/100\n",
            "1407/1407 [==============================] - 34s 24ms/step - loss: 2.0544 - accuracy: 0.2469 - val_loss: 4.8443 - val_accuracy: 0.1322\n",
            "Epoch 48/100\n",
            "1407/1407 [==============================] - 29s 21ms/step - loss: 2.0792 - accuracy: 0.2504 - val_loss: 2.2102 - val_accuracy: 0.1840\n",
            "Epoch 49/100\n",
            "1407/1407 [==============================] - 30s 21ms/step - loss: 2.0720 - accuracy: 0.2459 - val_loss: 2.0773 - val_accuracy: 0.2254\n",
            "Epoch 50/100\n",
            "1407/1407 [==============================] - 31s 22ms/step - loss: 2.0433 - accuracy: 0.2522 - val_loss: 2.6546 - val_accuracy: 0.1348\n",
            "Epoch 51/100\n",
            "1407/1407 [==============================] - 32s 23ms/step - loss: 2.0504 - accuracy: 0.2524 - val_loss: 11.6175 - val_accuracy: 0.1076\n",
            "Epoch 52/100\n",
            "1407/1407 [==============================] - 33s 23ms/step - loss: 2.0613 - accuracy: 0.2452 - val_loss: 2.2836 - val_accuracy: 0.1438\n",
            "Epoch 53/100\n",
            "1407/1407 [==============================] - 30s 21ms/step - loss: 2.0631 - accuracy: 0.2424 - val_loss: 4.1072 - val_accuracy: 0.0920\n",
            "Epoch 54/100\n",
            "1407/1407 [==============================] - 30s 21ms/step - loss: 2.0788 - accuracy: 0.2351 - val_loss: 2.4644 - val_accuracy: 0.0696\n",
            "Epoch 55/100\n",
            "1407/1407 [==============================] - 30s 21ms/step - loss: 2.0571 - accuracy: 0.2413 - val_loss: 2.6922 - val_accuracy: 0.0454\n",
            "Epoch 56/100\n",
            "1407/1407 [==============================] - 30s 21ms/step - loss: 2.0524 - accuracy: 0.2372 - val_loss: 2.5476 - val_accuracy: 0.1390\n",
            "Epoch 57/100\n",
            "1407/1407 [==============================] - 30s 21ms/step - loss: 2.0520 - accuracy: 0.2419 - val_loss: 2.1977 - val_accuracy: 0.1668\n",
            "Epoch 58/100\n",
            "1407/1407 [==============================] - 30s 21ms/step - loss: 2.0302 - accuracy: 0.2495 - val_loss: 2.4693 - val_accuracy: 0.0988\n",
            "Epoch 59/100\n",
            "1407/1407 [==============================] - 29s 21ms/step - loss: 2.0348 - accuracy: 0.2504 - val_loss: 2.3076 - val_accuracy: 0.1500\n",
            "Epoch 60/100\n",
            "1407/1407 [==============================] - 30s 21ms/step - loss: 2.0468 - accuracy: 0.2481 - val_loss: 3.1958 - val_accuracy: 0.1204\n",
            "Epoch 61/100\n",
            "1407/1407 [==============================] - 30s 21ms/step - loss: 2.0256 - accuracy: 0.2552 - val_loss: 2.3034 - val_accuracy: 0.1560\n",
            "Epoch 62/100\n",
            "1407/1407 [==============================] - 31s 22ms/step - loss: 2.0350 - accuracy: 0.2504 - val_loss: 2.4068 - val_accuracy: 0.1582\n",
            "Epoch 63/100\n",
            "1407/1407 [==============================] - 30s 21ms/step - loss: 2.0506 - accuracy: 0.2498 - val_loss: 2.4864 - val_accuracy: 0.1048\n",
            "Epoch 64/100\n",
            "1407/1407 [==============================] - 30s 22ms/step - loss: 2.0387 - accuracy: 0.2497 - val_loss: 2.5507 - val_accuracy: 0.1050\n",
            "Epoch 65/100\n",
            "1407/1407 [==============================] - 30s 21ms/step - loss: 2.0285 - accuracy: 0.2533 - val_loss: 5.0782 - val_accuracy: 0.1752\n",
            "Epoch 66/100\n",
            "1407/1407 [==============================] - 30s 21ms/step - loss: 2.0238 - accuracy: 0.2540 - val_loss: 3.2144 - val_accuracy: 0.1084\n",
            "Epoch 67/100\n",
            "1407/1407 [==============================] - 30s 21ms/step - loss: 2.0406 - accuracy: 0.2529 - val_loss: 2.3155 - val_accuracy: 0.1118\n",
            "Epoch 68/100\n",
            "1407/1407 [==============================] - 30s 21ms/step - loss: 2.0223 - accuracy: 0.2529 - val_loss: 2.7835 - val_accuracy: 0.1114\n",
            "Epoch 69/100\n",
            "1407/1407 [==============================] - 31s 22ms/step - loss: 2.0305 - accuracy: 0.2538 - val_loss: 2.2712 - val_accuracy: 0.1322\n",
            "Epoch 70/100\n",
            "1407/1407 [==============================] - 30s 22ms/step - loss: 2.0253 - accuracy: 0.2532 - val_loss: 5.1456 - val_accuracy: 0.1704\n",
            "Epoch 71/100\n",
            "1407/1407 [==============================] - 30s 21ms/step - loss: 2.0291 - accuracy: 0.2540 - val_loss: 2.4293 - val_accuracy: 0.1336\n",
            "Epoch 72/100\n",
            "1407/1407 [==============================] - 30s 22ms/step - loss: 2.0283 - accuracy: 0.2537 - val_loss: 47.3987 - val_accuracy: 0.1452\n",
            "Epoch 73/100\n",
            "1407/1407 [==============================] - 30s 21ms/step - loss: 2.0238 - accuracy: 0.2577 - val_loss: 2.1942 - val_accuracy: 0.1880\n",
            "Epoch 74/100\n",
            "1407/1407 [==============================] - 30s 21ms/step - loss: 2.0245 - accuracy: 0.2559 - val_loss: 7.1148 - val_accuracy: 0.1754\n",
            "Epoch 75/100\n",
            "1407/1407 [==============================] - 30s 21ms/step - loss: 2.0407 - accuracy: 0.2494 - val_loss: 2.4180 - val_accuracy: 0.1078\n",
            "Epoch 76/100\n",
            "1407/1407 [==============================] - 30s 22ms/step - loss: 2.0304 - accuracy: 0.2563 - val_loss: 2.1882 - val_accuracy: 0.1798\n",
            "Epoch 77/100\n",
            "1407/1407 [==============================] - 30s 21ms/step - loss: 2.0098 - accuracy: 0.2593 - val_loss: 2.2679 - val_accuracy: 0.1624\n",
            "Epoch 78/100\n",
            "1407/1407 [==============================] - 30s 21ms/step - loss: 2.0105 - accuracy: 0.2540 - val_loss: 2.2486 - val_accuracy: 0.1666\n",
            "Epoch 79/100\n",
            "1407/1407 [==============================] - 33s 24ms/step - loss: 2.0332 - accuracy: 0.2544 - val_loss: 2.1923 - val_accuracy: 0.1660\n",
            "Epoch 80/100\n",
            "1407/1407 [==============================] - 31s 22ms/step - loss: 2.0236 - accuracy: 0.2549 - val_loss: 82.7033 - val_accuracy: 0.1304\n",
            "Epoch 81/100\n",
            "1407/1407 [==============================] - 32s 23ms/step - loss: 2.0187 - accuracy: 0.2524 - val_loss: 2.2769 - val_accuracy: 0.1508\n",
            "Epoch 82/100\n",
            "1407/1407 [==============================] - 35s 25ms/step - loss: 2.0452 - accuracy: 0.2484 - val_loss: 2.2743 - val_accuracy: 0.1468\n",
            "Epoch 83/100\n",
            "1407/1407 [==============================] - 34s 24ms/step - loss: 2.0143 - accuracy: 0.2528 - val_loss: 2.3334 - val_accuracy: 0.1304\n",
            "Epoch 84/100\n",
            "1407/1407 [==============================] - 35s 25ms/step - loss: 2.0699 - accuracy: 0.2464 - val_loss: 2.0967 - val_accuracy: 0.2054\n",
            "Epoch 85/100\n",
            "1407/1407 [==============================] - 35s 25ms/step - loss: 2.0272 - accuracy: 0.2550 - val_loss: 2.2286 - val_accuracy: 0.1624\n",
            "Epoch 86/100\n",
            "1407/1407 [==============================] - 36s 26ms/step - loss: 2.0281 - accuracy: 0.2531 - val_loss: 2.3201 - val_accuracy: 0.1596\n",
            "Epoch 87/100\n",
            "1407/1407 [==============================] - 34s 24ms/step - loss: 2.0502 - accuracy: 0.2403 - val_loss: 7.8746 - val_accuracy: 0.0836\n",
            "Epoch 88/100\n",
            "1407/1407 [==============================] - 35s 25ms/step - loss: 2.0221 - accuracy: 0.2513 - val_loss: 2.5305 - val_accuracy: 0.1452\n",
            "Epoch 89/100\n",
            "1407/1407 [==============================] - 36s 25ms/step - loss: 2.0350 - accuracy: 0.2495 - val_loss: 2.2749 - val_accuracy: 0.1068\n",
            "Epoch 90/100\n",
            "1407/1407 [==============================] - 34s 24ms/step - loss: 2.0257 - accuracy: 0.2530 - val_loss: 2.4546 - val_accuracy: 0.1452\n",
            "Epoch 91/100\n",
            "1407/1407 [==============================] - 35s 25ms/step - loss: 2.0169 - accuracy: 0.2504 - val_loss: 2.0294 - val_accuracy: 0.2408\n",
            "Epoch 92/100\n",
            "1407/1407 [==============================] - 35s 25ms/step - loss: 2.0274 - accuracy: 0.2528 - val_loss: 2.4436 - val_accuracy: 0.0980\n",
            "Epoch 93/100\n",
            "1407/1407 [==============================] - 35s 25ms/step - loss: 2.0559 - accuracy: 0.2450 - val_loss: 2.3271 - val_accuracy: 0.1078\n",
            "Epoch 94/100\n",
            "1407/1407 [==============================] - 34s 24ms/step - loss: 2.0515 - accuracy: 0.2480 - val_loss: 2.3081 - val_accuracy: 0.1634\n",
            "Epoch 95/100\n",
            "1407/1407 [==============================] - 35s 25ms/step - loss: 2.0461 - accuracy: 0.2479 - val_loss: 2.1655 - val_accuracy: 0.1896\n",
            "Epoch 96/100\n",
            "1407/1407 [==============================] - 35s 25ms/step - loss: 2.0356 - accuracy: 0.2497 - val_loss: 3.0098 - val_accuracy: 0.1508\n",
            "Epoch 97/100\n",
            "1407/1407 [==============================] - 35s 25ms/step - loss: 2.0245 - accuracy: 0.2507 - val_loss: 2.2774 - val_accuracy: 0.1196\n",
            "Epoch 98/100\n",
            "1407/1407 [==============================] - 34s 24ms/step - loss: 2.0325 - accuracy: 0.2528 - val_loss: 2.5906 - val_accuracy: 0.1072\n",
            "Epoch 99/100\n",
            "1407/1407 [==============================] - 34s 24ms/step - loss: 2.0345 - accuracy: 0.2526 - val_loss: 2.1374 - val_accuracy: 0.1758\n",
            "Epoch 100/100\n",
            "1407/1407 [==============================] - 34s 24ms/step - loss: 2.0553 - accuracy: 0.2553 - val_loss: 2.5923 - val_accuracy: 0.1444\n"
          ]
        }
      ]
    },
    {
      "cell_type": "code",
      "source": [
        "test_loss, test_accuracy = cifar10_model4.evaluate(X_test, y_test)"
      ],
      "metadata": {
        "colab": {
          "base_uri": "https://localhost:8080/"
        },
        "id": "WFMc7ko3yRtS",
        "outputId": "8db492d9-5357-47a5-8db2-1ed96702ad2a"
      },
      "execution_count": 94,
      "outputs": [
        {
          "output_type": "stream",
          "name": "stdout",
          "text": [
            "313/313 [==============================] - 2s 7ms/step - loss: 2.5939 - accuracy: 0.1441\n"
          ]
        }
      ]
    },
    {
      "cell_type": "code",
      "source": [
        "print(\"Test accuracy: {}\".format(test_accuracy))\n",
        "print(\"\")\n",
        "print(\"Test loss: {}\".format(test_loss))"
      ],
      "metadata": {
        "colab": {
          "base_uri": "https://localhost:8080/"
        },
        "id": "jWrICe0CyUa7",
        "outputId": "c8abefe1-cb6e-44f6-e0f2-7ae8093b49e8"
      },
      "execution_count": 95,
      "outputs": [
        {
          "output_type": "stream",
          "name": "stdout",
          "text": [
            "Test accuracy: 0.14409999549388885\n",
            "\n",
            "Test loss: 2.593912363052368\n"
          ]
        }
      ]
    },
    {
      "cell_type": "code",
      "source": [
        "# Plot history for the model's accuracy\n",
        "plt.plot(history4.history['accuracy'])\n",
        "plt.plot(history4.history['val_accuracy'])\n",
        "plt.title('Model Accuracy')\n",
        "plt.ylabel('Accuracy')\n",
        "plt.xlabel('Epochs')\n",
        "plt.legend(['train', 'test'], loc='upper left')\n",
        "plt.show()"
      ],
      "metadata": {
        "colab": {
          "base_uri": "https://localhost:8080/",
          "height": 295
        },
        "id": "L4a5tyQRy3gE",
        "outputId": "849bf838-8a14-49b0-a3ea-58f1d0332a7a"
      },
      "execution_count": 96,
      "outputs": [
        {
          "output_type": "display_data",
          "data": {
            "text/plain": [
              "<Figure size 432x288 with 1 Axes>"
            ],
            "image/png": "[encoded data removed]"
          },
          "metadata": {
            "needs_background": "light"
          }
        }
      ]
    },
    {
      "cell_type": "code",
      "source": [
        "# Plot history for the model's loss\n",
        "plt.plot(history4.history['loss'])\n",
        "plt.plot(history4.history['val_loss'])\n",
        "plt.title('Model Loss')\n",
        "plt.ylabel('Loss')\n",
        "plt.xlabel('Epochs')\n",
        "plt.legend(['train', 'test'], loc='upper right')\n",
        "plt.show()"
      ],
      "metadata": {
        "colab": {
          "base_uri": "https://localhost:8080/",
          "height": 295
        },
        "id": "1AEiT5H7zkkL",
        "outputId": "5c39ad3c-500e-4e63-b48b-3309b3ca59f5"
      },
      "execution_count": 97,
      "outputs": [
        {
          "output_type": "display_data",
          "data": {
            "text/plain": [
              "<Figure size 432x288 with 1 Axes>"
            ],
            "image/png": "[encoded data removed]"
          },
          "metadata": {
            "needs_background": "light"
          }
        }
      ]
    },
    {
      "cell_type": "markdown",
      "source": [
        "Adding dropout to our model slightly improved our accuracy. Without dropout, we achieved an accuracy of 10%. With dropout, it went up to 14%. We can observe heavy overfitting in the model."
      ],
      "metadata": {
        "id": "1vdb_l3Azm_d"
      }
    },
    {
      "cell_type": "markdown",
      "metadata": {
        "id": "XU4ttvQllG3Y"
      },
      "source": [
        "### Question 2.5 (10 points) \n",
        "\n",
        "Add Earlystopping to the model and save the model at the early stopping epoch using the callbacks. \n",
        "\n",
        "Last, load the model and evaluate on the test set."
      ]
    },
    {
      "cell_type": "code",
      "execution_count": 98,
      "metadata": {
        "id": "EJd6WmPelG3Z"
      },
      "outputs": [],
      "source": [
        "keras.backend.clear_session()\n",
        "\n",
        "cifar10_model5 = tf.keras.models.Sequential()"
      ]
    },
    {
      "cell_type": "code",
      "source": [
        "# Input layer\n",
        "cifar10_model5.add(keras.layers.Flatten(input_shape=[32, 32, 3]))\n",
        "cifar10_model5.add(keras.layers.BatchNormalization())\n",
        "cifar10_model5.add(keras.layers.Dropout(rate=0.1))\n",
        "\n",
        "# Create 20 hidden layers\n",
        "for n_hidden in range(20):\n",
        "    cifar10_model5.add(keras.layers.Dense(100, activation=\"relu\"))\n",
        "    cifar10_model5.add(keras.layers.BatchNormalization())\n",
        "\n",
        "cifar10_model5.add(keras.layers.Dropout(rate=0.1))\n",
        "# Output layer: SOFTMAX activation as it gives the probabilities of each class\n",
        "cifar10_model5.add(keras.layers.Dense(10, activation=\"softmax\"))"
      ],
      "metadata": {
        "id": "IjRdR8MHBRAY"
      },
      "execution_count": 99,
      "outputs": []
    },
    {
      "cell_type": "code",
      "source": [
        "# Compile the model\n",
        "cifar10_model5.compile(loss=\"sparse_categorical_crossentropy\", \n",
        "                      optimizer=\"adam\", \n",
        "                      metrics=[\"accuracy\"])\n",
        "\n",
        "# Add earlystopps using callbacks\n",
        "early_stop_cb = keras.callbacks.EarlyStopping(patience=10,\n",
        "                                                  restore_best_weights=True)\n",
        "checkpoint_cb = keras.callbacks.ModelCheckpoint(\"my_keras_model.h5\", save_best_only=True)\n",
        "\n",
        "# Train the model\n",
        "n_epochs = 50\n",
        "history5 = cifar10_model5.fit(X_train, y_train, epochs=n_epochs,\n",
        "                    validation_data=(X_valid, y_valid),\n",
        "                    callbacks=[checkpoint_cb, early_stop_cb])"
      ],
      "metadata": {
        "colab": {
          "base_uri": "https://localhost:8080/"
        },
        "id": "5zSYDf97DsaC",
        "outputId": "9617d3bf-fd32-4f99-93ff-3222d3cb0cc0"
      },
      "execution_count": 101,
      "outputs": [
        {
          "output_type": "stream",
          "name": "stdout",
          "text": [
            "Epoch 1/50\n",
            "1407/1407 [==============================] - 39s 23ms/step - loss: 1.9889 - accuracy: 0.2669 - val_loss: 1.8125 - val_accuracy: 0.3384\n",
            "Epoch 2/50\n",
            "1407/1407 [==============================] - 31s 22ms/step - loss: 1.8477 - accuracy: 0.3366 - val_loss: 1.7509 - val_accuracy: 0.3674\n",
            "Epoch 3/50\n",
            "1407/1407 [==============================] - 29s 21ms/step - loss: 1.7612 - accuracy: 0.3734 - val_loss: 1.6639 - val_accuracy: 0.3946\n",
            "Epoch 4/50\n",
            "1407/1407 [==============================] - 29s 21ms/step - loss: 1.7011 - accuracy: 0.3944 - val_loss: 1.6449 - val_accuracy: 0.3902\n",
            "Epoch 5/50\n",
            "1407/1407 [==============================] - 28s 20ms/step - loss: 1.6559 - accuracy: 0.4146 - val_loss: 1.5511 - val_accuracy: 0.4490\n",
            "Epoch 6/50\n",
            "1407/1407 [==============================] - 28s 20ms/step - loss: 1.6086 - accuracy: 0.4317 - val_loss: 1.5067 - val_accuracy: 0.4712\n",
            "Epoch 7/50\n",
            "1407/1407 [==============================] - 27s 19ms/step - loss: 1.5707 - accuracy: 0.4472 - val_loss: 1.5526 - val_accuracy: 0.4576\n",
            "Epoch 8/50\n",
            "1407/1407 [==============================] - 27s 20ms/step - loss: 1.5408 - accuracy: 0.4608 - val_loss: 1.4783 - val_accuracy: 0.4816\n",
            "Epoch 9/50\n",
            "1407/1407 [==============================] - 27s 19ms/step - loss: 1.5119 - accuracy: 0.4711 - val_loss: 1.4866 - val_accuracy: 0.4792\n",
            "Epoch 10/50\n",
            "1407/1407 [==============================] - 28s 20ms/step - loss: 1.4894 - accuracy: 0.4786 - val_loss: 1.4749 - val_accuracy: 0.4926\n",
            "Epoch 11/50\n",
            "1407/1407 [==============================] - 28s 20ms/step - loss: 1.4688 - accuracy: 0.4857 - val_loss: 1.4155 - val_accuracy: 0.5000\n",
            "Epoch 12/50\n",
            "1407/1407 [==============================] - 28s 20ms/step - loss: 1.4480 - accuracy: 0.4922 - val_loss: 1.4964 - val_accuracy: 0.4646\n",
            "Epoch 13/50\n",
            "1407/1407 [==============================] - 28s 20ms/step - loss: 1.4274 - accuracy: 0.5000 - val_loss: 1.4294 - val_accuracy: 0.4960\n",
            "Epoch 14/50\n",
            "1407/1407 [==============================] - 28s 20ms/step - loss: 1.4068 - accuracy: 0.5076 - val_loss: 1.4094 - val_accuracy: 0.5062\n",
            "Epoch 15/50\n",
            "1407/1407 [==============================] - 28s 20ms/step - loss: 1.3919 - accuracy: 0.5145 - val_loss: 1.4494 - val_accuracy: 0.4930\n",
            "Epoch 16/50\n",
            "1407/1407 [==============================] - 28s 20ms/step - loss: 1.3802 - accuracy: 0.5194 - val_loss: 1.3737 - val_accuracy: 0.5232\n",
            "Epoch 17/50\n",
            "1407/1407 [==============================] - 27s 20ms/step - loss: 1.3605 - accuracy: 0.5254 - val_loss: 1.3922 - val_accuracy: 0.5206\n",
            "Epoch 18/50\n",
            "1407/1407 [==============================] - 27s 19ms/step - loss: 1.3489 - accuracy: 0.5285 - val_loss: 1.4035 - val_accuracy: 0.5034\n",
            "Epoch 19/50\n",
            "1407/1407 [==============================] - 28s 20ms/step - loss: 1.3363 - accuracy: 0.5332 - val_loss: 1.3915 - val_accuracy: 0.5066\n",
            "Epoch 20/50\n",
            "1407/1407 [==============================] - 27s 19ms/step - loss: 1.3239 - accuracy: 0.5401 - val_loss: 1.4094 - val_accuracy: 0.5056\n",
            "Epoch 21/50\n",
            "1407/1407 [==============================] - 27s 19ms/step - loss: 1.3147 - accuracy: 0.5427 - val_loss: 1.3804 - val_accuracy: 0.5192\n",
            "Epoch 22/50\n",
            "1407/1407 [==============================] - 27s 19ms/step - loss: 1.2956 - accuracy: 0.5454 - val_loss: 1.3817 - val_accuracy: 0.5180\n",
            "Epoch 23/50\n",
            "1407/1407 [==============================] - 27s 19ms/step - loss: 1.2904 - accuracy: 0.5534 - val_loss: 1.4197 - val_accuracy: 0.5056\n",
            "Epoch 24/50\n",
            "1407/1407 [==============================] - 27s 19ms/step - loss: 1.2739 - accuracy: 0.5572 - val_loss: 1.3870 - val_accuracy: 0.5098\n",
            "Epoch 25/50\n",
            "1407/1407 [==============================] - 28s 20ms/step - loss: 1.2688 - accuracy: 0.5552 - val_loss: 1.3568 - val_accuracy: 0.5326\n",
            "Epoch 26/50\n",
            "1407/1407 [==============================] - 28s 20ms/step - loss: 1.2544 - accuracy: 0.5626 - val_loss: 1.3626 - val_accuracy: 0.5272\n",
            "Epoch 27/50\n",
            "1407/1407 [==============================] - 27s 19ms/step - loss: 1.2499 - accuracy: 0.5643 - val_loss: 1.3962 - val_accuracy: 0.5146\n",
            "Epoch 28/50\n",
            "1407/1407 [==============================] - 28s 20ms/step - loss: 1.2407 - accuracy: 0.5693 - val_loss: 1.3715 - val_accuracy: 0.5272\n",
            "Epoch 29/50\n",
            "1407/1407 [==============================] - 28s 20ms/step - loss: 1.2335 - accuracy: 0.5690 - val_loss: 1.3535 - val_accuracy: 0.5246\n",
            "Epoch 30/50\n",
            "1407/1407 [==============================] - 28s 20ms/step - loss: 1.2173 - accuracy: 0.5750 - val_loss: 1.3490 - val_accuracy: 0.5318\n",
            "Epoch 31/50\n",
            "1407/1407 [==============================] - 28s 20ms/step - loss: 1.2147 - accuracy: 0.5792 - val_loss: 1.3662 - val_accuracy: 0.5294\n",
            "Epoch 32/50\n",
            "1407/1407 [==============================] - 28s 20ms/step - loss: 1.2083 - accuracy: 0.5792 - val_loss: 1.3572 - val_accuracy: 0.5344\n",
            "Epoch 33/50\n",
            "1407/1407 [==============================] - 27s 19ms/step - loss: 1.1974 - accuracy: 0.5821 - val_loss: 1.3665 - val_accuracy: 0.5356\n",
            "Epoch 34/50\n",
            "1407/1407 [==============================] - 28s 20ms/step - loss: 1.1904 - accuracy: 0.5837 - val_loss: 1.3514 - val_accuracy: 0.5322\n",
            "Epoch 35/50\n",
            "1407/1407 [==============================] - 28s 20ms/step - loss: 1.1871 - accuracy: 0.5871 - val_loss: 1.3604 - val_accuracy: 0.5372\n",
            "Epoch 36/50\n",
            "1407/1407 [==============================] - 28s 20ms/step - loss: 1.1805 - accuracy: 0.5897 - val_loss: 1.3959 - val_accuracy: 0.5300\n",
            "Epoch 37/50\n",
            "1407/1407 [==============================] - 28s 20ms/step - loss: 1.1666 - accuracy: 0.5968 - val_loss: 1.3469 - val_accuracy: 0.5394\n",
            "Epoch 38/50\n",
            "1407/1407 [==============================] - 28s 20ms/step - loss: 1.1661 - accuracy: 0.5949 - val_loss: 1.3734 - val_accuracy: 0.5428\n",
            "Epoch 39/50\n",
            "1407/1407 [==============================] - 28s 20ms/step - loss: 1.1592 - accuracy: 0.5986 - val_loss: 1.3709 - val_accuracy: 0.5240\n",
            "Epoch 40/50\n",
            "1407/1407 [==============================] - 28s 20ms/step - loss: 1.1489 - accuracy: 0.6022 - val_loss: 1.3678 - val_accuracy: 0.5298\n",
            "Epoch 41/50\n",
            "1407/1407 [==============================] - 28s 20ms/step - loss: 1.1480 - accuracy: 0.6030 - val_loss: 1.3759 - val_accuracy: 0.5296\n",
            "Epoch 42/50\n",
            "1407/1407 [==============================] - 28s 20ms/step - loss: 1.1401 - accuracy: 0.6056 - val_loss: 1.3745 - val_accuracy: 0.5284\n",
            "Epoch 43/50\n",
            "1407/1407 [==============================] - 28s 20ms/step - loss: 1.1309 - accuracy: 0.6094 - val_loss: 1.3398 - val_accuracy: 0.5346\n",
            "Epoch 44/50\n",
            "1407/1407 [==============================] - 28s 20ms/step - loss: 1.1322 - accuracy: 0.6072 - val_loss: 1.4087 - val_accuracy: 0.5138\n",
            "Epoch 45/50\n",
            "1407/1407 [==============================] - 28s 20ms/step - loss: 1.1234 - accuracy: 0.6090 - val_loss: 1.3553 - val_accuracy: 0.5340\n",
            "Epoch 46/50\n",
            "1407/1407 [==============================] - 28s 20ms/step - loss: 1.1170 - accuracy: 0.6143 - val_loss: 1.3620 - val_accuracy: 0.5358\n",
            "Epoch 47/50\n",
            "1407/1407 [==============================] - 28s 20ms/step - loss: 1.1119 - accuracy: 0.6141 - val_loss: 1.3620 - val_accuracy: 0.5336\n",
            "Epoch 48/50\n",
            "1407/1407 [==============================] - 28s 20ms/step - loss: 1.1066 - accuracy: 0.6160 - val_loss: 1.3562 - val_accuracy: 0.5398\n",
            "Epoch 49/50\n",
            "1407/1407 [==============================] - 28s 20ms/step - loss: 1.1061 - accuracy: 0.6182 - val_loss: 1.3748 - val_accuracy: 0.5420\n",
            "Epoch 50/50\n",
            "1407/1407 [==============================] - 28s 20ms/step - loss: 1.0992 - accuracy: 0.6196 - val_loss: 1.3402 - val_accuracy: 0.5474\n"
          ]
        }
      ]
    },
    {
      "cell_type": "code",
      "source": [
        "test_loss, test_accuracy = cifar10_model5.evaluate(X_test, y_test)"
      ],
      "metadata": {
        "colab": {
          "base_uri": "https://localhost:8080/"
        },
        "id": "mxgDoppHE-L7",
        "outputId": "a04c86e0-5d89-42e2-f295-d846307a8c77"
      },
      "execution_count": 102,
      "outputs": [
        {
          "output_type": "stream",
          "name": "stdout",
          "text": [
            "313/313 [==============================] - 1s 5ms/step - loss: 1.3573 - accuracy: 0.5348\n"
          ]
        }
      ]
    },
    {
      "cell_type": "code",
      "source": [
        "print(\"Test accuracy: {}\".format(test_accuracy))\n",
        "print(\"\")\n",
        "print(\"Test loss: {}\".format(test_loss))"
      ],
      "metadata": {
        "colab": {
          "base_uri": "https://localhost:8080/"
        },
        "id": "4JuhmeKvE_yh",
        "outputId": "f5ad5a11-a38a-4e08-dc50-f20d204300a5"
      },
      "execution_count": 103,
      "outputs": [
        {
          "output_type": "stream",
          "name": "stdout",
          "text": [
            "Test accuracy: 0.5347999930381775\n",
            "\n",
            "Test loss: 1.357337236404419\n"
          ]
        }
      ]
    },
    {
      "cell_type": "code",
      "source": [
        "# Plot history for the model's accuracy\n",
        "plt.plot(history5.history['accuracy'])\n",
        "plt.plot(history5.history['val_accuracy'])\n",
        "plt.title('Model Accuracy')\n",
        "plt.ylabel('Accuracy')\n",
        "plt.xlabel('Epochs')\n",
        "plt.legend(['train', 'test'], loc='upper left')\n",
        "plt.show()"
      ],
      "metadata": {
        "colab": {
          "base_uri": "https://localhost:8080/",
          "height": 295
        },
        "id": "97rJO-rqGPDJ",
        "outputId": "63a62518-f8f1-420c-e1d0-6db56baab54e"
      },
      "execution_count": 118,
      "outputs": [
        {
          "output_type": "display_data",
          "data": {
            "text/plain": [
              "<Figure size 432x288 with 1 Axes>"
            ],
            "image/png": "[encoded data removed]"
          },
          "metadata": {
            "needs_background": "light"
          }
        }
      ]
    },
    {
      "cell_type": "code",
      "source": [
        "# Plot history for the model's loss\n",
        "plt.plot(history5.history['loss'])\n",
        "plt.plot(history5.history['val_loss'])\n",
        "plt.title('Model Loss')\n",
        "plt.ylabel('Loss')\n",
        "plt.xlabel('Epochs')\n",
        "plt.legend(['train', 'test'], loc='upper right')\n",
        "plt.show()"
      ],
      "metadata": {
        "colab": {
          "base_uri": "https://localhost:8080/",
          "height": 295
        },
        "id": "dIgSjt1LGQwY",
        "outputId": "6df7f861-f684-4410-ffc9-6dd5e59fb21a"
      },
      "execution_count": 119,
      "outputs": [
        {
          "output_type": "display_data",
          "data": {
            "text/plain": [
              "<Figure size 432x288 with 1 Axes>"
            ],
            "image/png": "[encoded data removed]"
          },
          "metadata": {
            "needs_background": "light"
          }
        }
      ]
    },
    {
      "cell_type": "markdown",
      "source": [
        "Adding earlystopping to our model significantly increased the performance of our accuracy. We were now able to achive an accuracy of 53.47%. Yet, the model would need more improvement as an accuracy of 53% is not sufficient. Also, in the model we can still see that overfitting occurs.\n",
        "\n",
        "\n",
        "It must be said that the model did not stopped earlier than the epochs we set. Also, we just trained the model on epochs = 50 instead of = 100 because of time constraints. "
      ],
      "metadata": {
        "id": "5c3y7isKAPxb"
      }
    },
    {
      "cell_type": "markdown",
      "metadata": {
        "id": "ronyMVPJlG3Z"
      },
      "source": [
        "### Question 2.6 Convolutional Neural Network (15 points)\n",
        "\n",
        "Now, let's define the Convolutional Neural Network. \n",
        "\n",
        "❓ **Question** ❓ Define a CNN that is composed of:\n",
        "- a Conv2D layer with 32 filters, a kernel size of (3, 3), the relu activation function, and a padding equal to `same`\n",
        "- a MaxPooling2D layer with a pool size of (2, 2)\n",
        "- a Conv2D layer with 64 filters, a kernel size of (3, 3), the relu activation function, and a padding equal to `same`\n",
        "- a MaxPooling2D layer with a pool size of (2, 2)\n",
        "- a Conv2D layer with 128 filters, a kernel size of (3, 3), the relu activation function, and a padding equal to `same`\n",
        "- a MaxPooling2D layer with a pool size of (3, 3)\n",
        "- a Flatten layer\n",
        "- a dense function with 120 neurons with the `relu` activation function\n",
        "- a dense function with 60 neurons with the `relu` activation function\n",
        "- a dropout layer (with a rate of 0.5), to regularize the network\n",
        "- a dense function related to your task\n",
        "\n",
        "Estimate the model using the same compilation configuration and report your test accuracy. "
      ]
    },
    {
      "cell_type": "code",
      "execution_count": 106,
      "metadata": {
        "id": "eUM2sCRnlG3Z"
      },
      "outputs": [],
      "source": [
        "keras.backend.clear_session()\n",
        "\n",
        "cifar10_model6 = tf.keras.models.Sequential()"
      ]
    },
    {
      "cell_type": "code",
      "source": [
        "# First Layer\n",
        "cifar10_model6.add(tf.keras.layers.Conv2D(filters=32,kernel_size=3,padding=\"same\", activation=\"relu\", input_shape=[32,32,3]))\n",
        "# Max Pooling Layer\n",
        "cifar10_model6.add(tf.keras.layers.MaxPool2D(pool_size=2))\n",
        "# Second Layer\n",
        "cifar10_model6.add(tf.keras.layers.Conv2D(filters=64,kernel_size=3,padding=\"same\", activation=\"relu\"))\n",
        "# Max Pooling Layer\n",
        "cifar10_model6.add(tf.keras.layers.MaxPool2D(pool_size=2))\n",
        "# Third Layer\n",
        "cifar10_model6.add(tf.keras.layers.Conv2D(filters=128,kernel_size=3,padding=\"same\", activation=\"relu\"))\n",
        "# Max Pooling Layer\n",
        "cifar10_model6.add(tf.keras.layers.MaxPool2D(pool_size=3))\n",
        "# Flattening Layer\n",
        "cifar10_model6.add(tf.keras.layers.Flatten())\n",
        "# Adding the first fully connected layer\n",
        "cifar10_model6.add(tf.keras.layers.Dense(units=120,activation='relu'))\n",
        "# Adding the second fully connected layer\n",
        "cifar10_model6.add(tf.keras.layers.Dense(units=60,activation='relu'))\n",
        "# Droput Layer\n",
        "cifar10_model6.add(tf.keras.layers.Dropout(0.5,noise_shape=None,seed=None))\n",
        "# Output Layer\n",
        "cifar10_model6.add(tf.keras.layers.Dense(units=10,activation='softmax'))"
      ],
      "metadata": {
        "id": "jOfv3A-vH3-e"
      },
      "execution_count": 107,
      "outputs": []
    },
    {
      "cell_type": "code",
      "source": [
        "cifar10_model6.summary()"
      ],
      "metadata": {
        "colab": {
          "base_uri": "https://localhost:8080/"
        },
        "id": "tbh_aElVJVjN",
        "outputId": "beca1cd3-f1f8-428e-cdb9-58b956b96c30"
      },
      "execution_count": 108,
      "outputs": [
        {
          "output_type": "stream",
          "name": "stdout",
          "text": [
            "Model: \"sequential\"\n",
            "_________________________________________________________________\n",
            " Layer (type)                Output Shape              Param #   \n",
            "=================================================================\n",
            " conv2d (Conv2D)             (None, 32, 32, 32)        896       \n",
            "                                                                 \n",
            " max_pooling2d (MaxPooling2D  (None, 16, 16, 32)       0         \n",
            " )                                                               \n",
            "                                                                 \n",
            " conv2d_1 (Conv2D)           (None, 16, 16, 64)        18496     \n",
            "                                                                 \n",
            " max_pooling2d_1 (MaxPooling  (None, 8, 8, 64)         0         \n",
            " 2D)                                                             \n",
            "                                                                 \n",
            " conv2d_2 (Conv2D)           (None, 8, 8, 128)         73856     \n",
            "                                                                 \n",
            " max_pooling2d_2 (MaxPooling  (None, 2, 2, 128)        0         \n",
            " 2D)                                                             \n",
            "                                                                 \n",
            " flatten (Flatten)           (None, 512)               0         \n",
            "                                                                 \n",
            " dense (Dense)               (None, 120)               61560     \n",
            "                                                                 \n",
            " dense_1 (Dense)             (None, 60)                7260      \n",
            "                                                                 \n",
            " dropout (Dropout)           (None, 60)                0         \n",
            "                                                                 \n",
            " dense_2 (Dense)             (None, 10)                610       \n",
            "                                                                 \n",
            "=================================================================\n",
            "Total params: 162,678\n",
            "Trainable params: 162,678\n",
            "Non-trainable params: 0\n",
            "_________________________________________________________________\n"
          ]
        }
      ]
    },
    {
      "cell_type": "code",
      "source": [
        "# Compile and train the model\n",
        "cifar10_model6.compile(loss=\"sparse_categorical_crossentropy\", \n",
        "                      optimizer=\"adam\", \n",
        "                      metrics=[\"accuracy\"])\n",
        "n_epochs = 2\n",
        "history6 = cifar10_model6.fit(X_train, y_train, epochs=n_epochs,\n",
        "                    validation_data=(X_valid, y_valid))"
      ],
      "metadata": {
        "id": "WDWslCAZJWxU",
        "colab": {
          "base_uri": "https://localhost:8080/"
        },
        "outputId": "9587a79f-e0cc-4b04-dca9-8c94f49ee715"
      },
      "execution_count": 110,
      "outputs": [
        {
          "output_type": "stream",
          "name": "stdout",
          "text": [
            "Epoch 1/2\n",
            "1407/1407 [==============================] - 106s 75ms/step - loss: 1.6234 - accuracy: 0.4057 - val_loss: 1.4198 - val_accuracy: 0.4880\n",
            "Epoch 2/2\n",
            "1407/1407 [==============================] - 104s 74ms/step - loss: 1.4007 - accuracy: 0.5061 - val_loss: 1.2161 - val_accuracy: 0.5694\n"
          ]
        }
      ]
    },
    {
      "cell_type": "code",
      "source": [
        "test_loss, test_accuracy = cifar10_model6.evaluate(X_test, y_test)"
      ],
      "metadata": {
        "colab": {
          "base_uri": "https://localhost:8080/"
        },
        "id": "ubnwZLCLJvJv",
        "outputId": "38cb7020-affc-4899-d4ca-7a75c689c03d"
      },
      "execution_count": 111,
      "outputs": [
        {
          "output_type": "stream",
          "name": "stdout",
          "text": [
            "313/313 [==============================] - 7s 22ms/step - loss: 1.2181 - accuracy: 0.5716\n"
          ]
        }
      ]
    },
    {
      "cell_type": "code",
      "source": [
        "print(\"Test accuracy: {}\".format(test_accuracy))\n",
        "print(\"\")\n",
        "print(\"Test loss: {}\".format(test_loss))"
      ],
      "metadata": {
        "colab": {
          "base_uri": "https://localhost:8080/"
        },
        "id": "g1Nw9zoQ5I_n",
        "outputId": "ae2562f1-14e6-4acc-9eb4-fad267bf044e"
      },
      "execution_count": 112,
      "outputs": [
        {
          "output_type": "stream",
          "name": "stdout",
          "text": [
            "Test accuracy: 0.5716000199317932\n",
            "\n",
            "Test loss: 1.2180843353271484\n"
          ]
        }
      ]
    },
    {
      "cell_type": "code",
      "source": [
        "# Plot history for the model's accuracy\n",
        "plt.plot(history6.history['accuracy'])\n",
        "plt.plot(history6.history['val_accuracy'])\n",
        "plt.title('Model Accuracy')\n",
        "plt.ylabel('Accuracy')\n",
        "plt.xlabel('Epochs')\n",
        "plt.legend(['train', 'test'], loc='upper left')\n",
        "plt.show()"
      ],
      "metadata": {
        "colab": {
          "base_uri": "https://localhost:8080/",
          "height": 295
        },
        "id": "PhA9wpFS6h0z",
        "outputId": "d0f7009e-42ec-43ae-ede2-36be80e32522"
      },
      "execution_count": 113,
      "outputs": [
        {
          "output_type": "display_data",
          "data": {
            "text/plain": [
              "<Figure size 432x288 with 1 Axes>"
            ],
            "image/png": "[encoded data removed]"
          },
          "metadata": {
            "needs_background": "light"
          }
        }
      ]
    },
    {
      "cell_type": "code",
      "source": [
        "# Plot history for the model's loss\n",
        "plt.plot(history6.history['loss'])\n",
        "plt.plot(history6.history['val_loss'])\n",
        "plt.title('Model Loss')\n",
        "plt.ylabel('Loss')\n",
        "plt.xlabel('Epochs')\n",
        "plt.legend(['train', 'test'], loc='upper right')\n",
        "plt.show()"
      ],
      "metadata": {
        "colab": {
          "base_uri": "https://localhost:8080/",
          "height": 295
        },
        "id": "fFxnJouF6kI5",
        "outputId": "5b944c24-23cd-4710-8d5e-47bbfbb035a0"
      },
      "execution_count": 114,
      "outputs": [
        {
          "output_type": "display_data",
          "data": {
            "text/plain": [
              "<Figure size 432x288 with 1 Axes>"
            ],
            "image/png": "[encoded data removed]"
          },
          "metadata": {
            "needs_background": "light"
          }
        }
      ]
    },
    {
      "cell_type": "markdown",
      "source": [
        "Using the model I was able to get an accuracy of 57.16%, which is 4%points better than the results we received in the model above. \n",
        "\n",
        "Yet, I have to stress that the results just ran on epochs = 2 for demonstration purposes. I did not have enough time to run the model on epochs = 100. \n",
        "\n",
        "\n",
        "*Inspiration for solving this task was taken from: https://towardsdatascience.com/deep-learning-with-cifar-10-image-classification-64ab92110d79*"
      ],
      "metadata": {
        "id": "0kXaLkKkL-I1"
      }
    },
    {
      "cell_type": "markdown",
      "metadata": {
        "id": "H9ns9EY_lG3Z"
      },
      "source": [
        "### Question 2.7 Transfer learning (15 points)\n",
        "\n",
        "In this question, we will use the [VGG-16 Neural Network](https://neurohive.io/en/popular-networks/vgg16/), a well-known architecture that has been trained on ImageNet which is a very large database of images of different categories. In a nutshell, this architecture has already learnt kernels which are supposed to be good not only for the task it has been train on but maybe for other tasks. \n",
        "\n",
        "The idea is that first layers are not specialized for the particular task it has been trained on; only the last ones are. Therefore, we will load the existing VGG16 network, remove the last fully connected layers, replace them by new connected layers (whose weights are randomly set), and train these last layers on a specific classification task - here, separate types of flower. The underlying idea is that the first convolutional layers of VGG-16, that has already been trained, corresponds to filters that are able to extract meaning features from images. And you will only learn the last layers for your particular problem.\n",
        "\n",
        "❓ **Question** ❓ Write a first function `load_model()` that loads the pretrained VGG-16 model from `tensorflow.keras.applications.vgg16`. Especially, look at the [documentation](https://www.tensorflow.org/api_docs/python/tf/keras/applications/VGG16) to load the model where:\n",
        "- the `weights` have been learnt on `imagenet`\n",
        "- the `input_shape` corresponds to the input shape of any of your images - you have to resize them in case they are not of the same size\n",
        "- the `include_top` argument is set to `False` in order not to load the fully-connected layers of the VGG-16 without the last layer which was specifically trained on `imagenet`\n",
        "\n",
        "Write a function that takes the previous model as input the set the girst layers to be non-trainable, by applying `model.trainable = False`. Then check-out the summary of the model to see that now, the parameters are `non-trainable`. Then write a function that adds flattening and dense layers after the first convolutional layers. You can define each layer (or group of layers) separately and concatenate them using the classic `layers.Sequential()` like below: \n",
        "\n",
        "```\n",
        "model = tf.keras.Sequential([\n",
        "  base_model,\n",
        "  flattening_layer,\n",
        "  dense_layer,\n",
        "  prediction_layer\n",
        "])\n",
        "```\n",
        "\n",
        "Replicate the above steps by adding a flattening and two dense layers (the first with 500 neurons) to the previous VGG-16 model.\n",
        "\n",
        "Estimate the model using the same compilation configuration and report the test accuracy. "
      ]
    },
    {
      "cell_type": "markdown",
      "source": [
        "1. Write function that loads VGG16 model \n",
        "2. Write function taht take 1. as input and set the first layers to be non trainable \n",
        "3. Check out summary of the model\n",
        "4. Write function that adds flattening and dense layers after first conv. layers\n",
        "5. Replicate by adding a flattening and two dense layers (first with 500 neurons) to the model created in 4.\n",
        "6. Compile \n",
        "7. Report test accuracy"
      ],
      "metadata": {
        "id": "9mJdWTTlk6Gl"
      }
    },
    {
      "cell_type": "code",
      "execution_count": 64,
      "metadata": {
        "id": "pHpHG7SnlG3a"
      },
      "outputs": [],
      "source": [
        "keras.backend.clear_session()\n",
        "\n",
        "def load_model():\n",
        "  vgg16_model = tf.keras.applications.vgg16.VGG16(\n",
        "    weights='imagenet',\n",
        "    include_top=False,\n",
        "    input_shape=(32,32,3)\n",
        "  )\n",
        "  \n",
        "  return vgg16_model, vgg16_model.summary()"
      ]
    },
    {
      "cell_type": "code",
      "source": [
        "# Function that takes the model as input and set trainable = False\n",
        "def non_train(model):\n",
        "  model.trainable = False\n",
        "  \n",
        "  return model, model.summary()"
      ],
      "metadata": {
        "id": "m7TRqWqXn4FI"
      },
      "execution_count": 65,
      "outputs": []
    },
    {
      "cell_type": "code",
      "source": [
        "# Function that adds flattening and dense layers after first conv. layers\n",
        "def model_layer(model_input):\n",
        "  model = model_input\n",
        "  flattening = tf.keras.layers.Flatten(input_shape=[32,32,3])\n",
        "  dense1 = tf.keras.layers.Dense(units=500,activation='relu')\n",
        "  dense2 = tf.keras.layers.Dense(units=100,activation='relu')\n",
        "  prediction = tf.keras.layers.Dense(units=10,activation='softmax')\n",
        "\n",
        "  model7 = tf.keras.models.Sequential([\n",
        "                                       model,\n",
        "                                       flattening,\n",
        "                                       dense1,\n",
        "                                       dense2\n",
        "                                       ])\n",
        "\n",
        "  return model7, model7.summary()"
      ],
      "metadata": {
        "id": "2pT18NbgsThZ"
      },
      "execution_count": 75,
      "outputs": []
    },
    {
      "cell_type": "code",
      "source": [
        "vgg16_model = load_model()"
      ],
      "metadata": {
        "id": "mp7Vaauipn1_",
        "outputId": "18be911a-9581-42fd-9a09-a6dc19abd3a8",
        "colab": {
          "base_uri": "https://localhost:8080/"
        }
      },
      "execution_count": 76,
      "outputs": [
        {
          "output_type": "stream",
          "name": "stdout",
          "text": [
            "Model: \"vgg16\"\n",
            "_________________________________________________________________\n",
            " Layer (type)                Output Shape              Param #   \n",
            "=================================================================\n",
            " input_5 (InputLayer)        [(None, 32, 32, 3)]       0         \n",
            "                                                                 \n",
            " block1_conv1 (Conv2D)       (None, 32, 32, 64)        1792      \n",
            "                                                                 \n",
            " block1_conv2 (Conv2D)       (None, 32, 32, 64)        36928     \n",
            "                                                                 \n",
            " block1_pool (MaxPooling2D)  (None, 16, 16, 64)        0         \n",
            "                                                                 \n",
            " block2_conv1 (Conv2D)       (None, 16, 16, 128)       73856     \n",
            "                                                                 \n",
            " block2_conv2 (Conv2D)       (None, 16, 16, 128)       147584    \n",
            "                                                                 \n",
            " block2_pool (MaxPooling2D)  (None, 8, 8, 128)         0         \n",
            "                                                                 \n",
            " block3_conv1 (Conv2D)       (None, 8, 8, 256)         295168    \n",
            "                                                                 \n",
            " block3_conv2 (Conv2D)       (None, 8, 8, 256)         590080    \n",
            "                                                                 \n",
            " block3_conv3 (Conv2D)       (None, 8, 8, 256)         590080    \n",
            "                                                                 \n",
            " block3_pool (MaxPooling2D)  (None, 4, 4, 256)         0         \n",
            "                                                                 \n",
            " block4_conv1 (Conv2D)       (None, 4, 4, 512)         1180160   \n",
            "                                                                 \n",
            " block4_conv2 (Conv2D)       (None, 4, 4, 512)         2359808   \n",
            "                                                                 \n",
            " block4_conv3 (Conv2D)       (None, 4, 4, 512)         2359808   \n",
            "                                                                 \n",
            " block4_pool (MaxPooling2D)  (None, 2, 2, 512)         0         \n",
            "                                                                 \n",
            " block5_conv1 (Conv2D)       (None, 2, 2, 512)         2359808   \n",
            "                                                                 \n",
            " block5_conv2 (Conv2D)       (None, 2, 2, 512)         2359808   \n",
            "                                                                 \n",
            " block5_conv3 (Conv2D)       (None, 2, 2, 512)         2359808   \n",
            "                                                                 \n",
            " block5_pool (MaxPooling2D)  (None, 1, 1, 512)         0         \n",
            "                                                                 \n",
            "=================================================================\n",
            "Total params: 14,714,688\n",
            "Trainable params: 14,714,688\n",
            "Non-trainable params: 0\n",
            "_________________________________________________________________\n"
          ]
        }
      ]
    },
    {
      "cell_type": "code",
      "source": [
        "model_nT = non_train(vgg16_model[0])"
      ],
      "metadata": {
        "id": "zANKFv-kYkr2",
        "outputId": "d8cf2de5-e289-4133-eb10-e09620cc926d",
        "colab": {
          "base_uri": "https://localhost:8080/"
        }
      },
      "execution_count": 77,
      "outputs": [
        {
          "output_type": "stream",
          "name": "stdout",
          "text": [
            "Model: \"vgg16\"\n",
            "_________________________________________________________________\n",
            " Layer (type)                Output Shape              Param #   \n",
            "=================================================================\n",
            " input_5 (InputLayer)        [(None, 32, 32, 3)]       0         \n",
            "                                                                 \n",
            " block1_conv1 (Conv2D)       (None, 32, 32, 64)        1792      \n",
            "                                                                 \n",
            " block1_conv2 (Conv2D)       (None, 32, 32, 64)        36928     \n",
            "                                                                 \n",
            " block1_pool (MaxPooling2D)  (None, 16, 16, 64)        0         \n",
            "                                                                 \n",
            " block2_conv1 (Conv2D)       (None, 16, 16, 128)       73856     \n",
            "                                                                 \n",
            " block2_conv2 (Conv2D)       (None, 16, 16, 128)       147584    \n",
            "                                                                 \n",
            " block2_pool (MaxPooling2D)  (None, 8, 8, 128)         0         \n",
            "                                                                 \n",
            " block3_conv1 (Conv2D)       (None, 8, 8, 256)         295168    \n",
            "                                                                 \n",
            " block3_conv2 (Conv2D)       (None, 8, 8, 256)         590080    \n",
            "                                                                 \n",
            " block3_conv3 (Conv2D)       (None, 8, 8, 256)         590080    \n",
            "                                                                 \n",
            " block3_pool (MaxPooling2D)  (None, 4, 4, 256)         0         \n",
            "                                                                 \n",
            " block4_conv1 (Conv2D)       (None, 4, 4, 512)         1180160   \n",
            "                                                                 \n",
            " block4_conv2 (Conv2D)       (None, 4, 4, 512)         2359808   \n",
            "                                                                 \n",
            " block4_conv3 (Conv2D)       (None, 4, 4, 512)         2359808   \n",
            "                                                                 \n",
            " block4_pool (MaxPooling2D)  (None, 2, 2, 512)         0         \n",
            "                                                                 \n",
            " block5_conv1 (Conv2D)       (None, 2, 2, 512)         2359808   \n",
            "                                                                 \n",
            " block5_conv2 (Conv2D)       (None, 2, 2, 512)         2359808   \n",
            "                                                                 \n",
            " block5_conv3 (Conv2D)       (None, 2, 2, 512)         2359808   \n",
            "                                                                 \n",
            " block5_pool (MaxPooling2D)  (None, 1, 1, 512)         0         \n",
            "                                                                 \n",
            "=================================================================\n",
            "Total params: 14,714,688\n",
            "Trainable params: 0\n",
            "Non-trainable params: 14,714,688\n",
            "_________________________________________________________________\n"
          ]
        }
      ]
    },
    {
      "cell_type": "code",
      "source": [
        "cifar10_model7 = model_layer(model_nT[0])"
      ],
      "metadata": {
        "id": "UTE_mczCYquF",
        "outputId": "6117ee89-b238-4dc2-b2b0-7ca17775d70e",
        "colab": {
          "base_uri": "https://localhost:8080/"
        }
      },
      "execution_count": 78,
      "outputs": [
        {
          "output_type": "stream",
          "name": "stdout",
          "text": [
            "Model: \"sequential_2\"\n",
            "_________________________________________________________________\n",
            " Layer (type)                Output Shape              Param #   \n",
            "=================================================================\n",
            " vgg16 (Functional)          (None, 1, 1, 512)         14714688  \n",
            "                                                                 \n",
            " flatten_2 (Flatten)         (None, 512)               0         \n",
            "                                                                 \n",
            " dense_6 (Dense)             (None, 500)               256500    \n",
            "                                                                 \n",
            " dense_7 (Dense)             (None, 100)               50100     \n",
            "                                                                 \n",
            "=================================================================\n",
            "Total params: 15,021,288\n",
            "Trainable params: 306,600\n",
            "Non-trainable params: 14,714,688\n",
            "_________________________________________________________________\n"
          ]
        }
      ]
    },
    {
      "cell_type": "code",
      "source": [
        "# Compile and train the model\n",
        "cifar10_model7[0].compile(loss=\"sparse_categorical_crossentropy\", \n",
        "                      optimizer=\"adam\", \n",
        "                      metrics=[\"accuracy\"])\n",
        "n_epochs = 2\n",
        "history7 = cifar10_model7[0].fit(X_train, y_train, epochs=n_epochs,\n",
        "                    validation_data=(X_valid, y_valid))"
      ],
      "metadata": {
        "colab": {
          "base_uri": "https://localhost:8080/"
        },
        "id": "uf2z2iZCvr0Z",
        "outputId": "2f7b440f-ac9b-4894-f1e1-166e8f11d75e"
      },
      "execution_count": 81,
      "outputs": [
        {
          "output_type": "stream",
          "name": "stdout",
          "text": [
            "Epoch 1/2\n",
            "1407/1407 [==============================] - 553s 393ms/step - loss: 4.6071 - accuracy: 0.0999 - val_loss: 4.6052 - val_accuracy: 0.1010\n",
            "Epoch 2/2\n",
            "1407/1407 [==============================] - 571s 406ms/step - loss: 4.6070 - accuracy: 0.0999 - val_loss: 4.6052 - val_accuracy: 0.1010\n"
          ]
        }
      ]
    },
    {
      "cell_type": "code",
      "source": [
        "test_loss, test_accuracy = cifar10_model7[0].evaluate(X_test, y_test)"
      ],
      "metadata": {
        "colab": {
          "base_uri": "https://localhost:8080/"
        },
        "id": "IxxxMIc6woRO",
        "outputId": "9c5c3f5f-72b8-4fee-be55-1e64d3faf321"
      },
      "execution_count": 116,
      "outputs": [
        {
          "output_type": "stream",
          "name": "stdout",
          "text": [
            "313/313 [==============================] - 108s 345ms/step - loss: 4.6052 - accuracy: 0.1000\n"
          ]
        }
      ]
    },
    {
      "cell_type": "code",
      "source": [
        "print(\"Test accuracy: {}\".format(test_accuracy))\n",
        "print(\"\")\n",
        "print(\"Test loss: {}\".format(test_loss))"
      ],
      "metadata": {
        "colab": {
          "base_uri": "https://localhost:8080/"
        },
        "id": "GsL77-XfxDr-",
        "outputId": "e5b8dcb7-30b1-4caa-ff1e-7433fa092586"
      },
      "execution_count": 117,
      "outputs": [
        {
          "output_type": "stream",
          "name": "stdout",
          "text": [
            "Test accuracy: 0.10000000149011612\n",
            "\n",
            "Test loss: 4.60518217086792\n"
          ]
        }
      ]
    }
  ],
  "metadata": {
    "kernelspec": {
      "display_name": "Python 3",
      "language": "python",
      "name": "python3"
    },
    "language_info": {
      "codemirror_mode": {
        "name": "ipython",
        "version": 3
      },
      "file_extension": ".py",
      "mimetype": "text/x-python",
      "name": "python",
      "nbconvert_exporter": "python",
      "pygments_lexer": "ipython3",
      "version": "3.7.8"
    },
    "colab": {
      "name": "49620_2487_Assignment4_2122_v2.ipynb",
      "provenance": [],
      "collapsed_sections": []
    }
  },
  "nbformat": 4,
  "nbformat_minor": 0
}